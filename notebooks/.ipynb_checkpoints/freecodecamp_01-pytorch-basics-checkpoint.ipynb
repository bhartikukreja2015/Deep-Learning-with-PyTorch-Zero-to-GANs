{
 "cells": [
  {
   "cell_type": "markdown",
   "metadata": {
    "colab_type": "text",
    "id": "NRDrDf5WUAGJ"
   },
   "source": [
    "# PyTorch Basics: Tensors & Gradients\n",
    "\n",
    "#### *Part 1 of \"Pytorch: Zero to GANs\"*\n",
    "\n",
    "*This post is the first in a series of tutorials on building deep learning models with PyTorch, an open source neural networks library developed and maintained by Facebook. Check out the full series:*\n",
    "\n",
    "1. [PyTorch Basics: Tensors & Gradients](https://jovian.ml/aakashns/01-pytorch-basics)\n",
    "2. [Linear Regression & Gradient Descent](https://jovian.ml/aakashns/02-linear-regression)\n",
    "3. [Image Classfication using Logistic Regression](https://jovian.ml/aakashns/03-logistic-regression) \n",
    "4. [Training Deep Neural Networks on a GPU](https://jovian.ml/aakashns/04-feedforward-nn)\n",
    "5. [Image Classification using Convolutional Neural Networks](https://jovian.ml/aakashns/05-cifar10-cnn)\n",
    "6. [Data Augmentation, Regularization and ResNets](https://jovian.ml/aakashns/05b-cifar10-resnet)\n",
    "7. [Generating Images using Generative Adverserial Networks](https://jovian.ml/aakashns/06-mnist-gan)\n",
    "\n",
    "This series attempts to make PyTorch a bit more approachable for people starting out with deep learning and neural networks. In this notebook, we’ll cover the basic building blocks of PyTorch models: tensors and gradients."
   ]
  },
  {
   "cell_type": "markdown",
   "metadata": {
    "colab_type": "text",
    "id": "yzvD3mKRUAGK"
   },
   "source": [
    "## System setup\n",
    "\n",
    "This tutorial takes a code-first approach towards learning PyTorch, and you should try to follow along by running and experimenting with the code yourself. The easiest way to start executing this notebook is to click the **\"Run\"** button at the top of this page, and select **\"Run on Binder\"**. This will run the notebook on [mybinder.org](https://mybinder.org), a free online service for running Jupyter notebooks.\n",
    "\n",
    "**NOTE**: *If you're running this notebook on Binder, please skip ahead to the next section.*\n",
    "\n",
    "### Running on your computer locally\n",
    "\n",
    "We'll use the [Anaconda distribution](https://www.anaconda.com/distribution/) of Python to install libraries and manage virtual environments. For interactive coding and experimentation, we'll use [Jupyter notebooks](https://jupyter.org/). All the tutorials in this series are available as Jupyter notebooks hosted on [Jovian.ml](https://www.jovian.ml): a sharing and collaboration platform for Jupyter notebooks & machine learning experiments.\n",
    "\n",
    "Jovian.ml makes it easy to share Jupyter notebooks on the cloud by running a single command directly within Jupyter. It also captures the Python environment and libraries required to run your notebook, so anyone (including you) can reproduce your work.\n",
    "\n",
    "Here's what you need to do to get started:\n",
    "\n",
    "1. Install Anaconda by following the [instructions given here](https://conda.io/projects/conda/en/latest/user-guide/install/index.html). You might also need to add Anaconda binaries to your system PATH to be able to run the `conda` command line tool.\n",
    "\n",
    "\n",
    "2. Install the `jovian` Python library by the running the following command (without the `$`) on your Mac/Linux terminal or Windows command prompt:\n",
    "\n",
    "```\n",
    "$ pip install jovian --upgrade\n",
    "```\n",
    "\n",
    "3. Download the notebook for this tutorial using the `jovian clone` command:\n",
    "\n",
    "```\n",
    "$ jovian clone aakashns/01-pytorch-basics\n",
    "```\n",
    "\n",
    "(You can copy this command to clipboard by clicking the 'Clone' button at the top of this page on Jovian.ml)\n",
    "\n",
    "Running the clone command creates a directory `01-pytorch-basics` containing a Jupyter notebook and an Anaconda environment file.\n",
    "\n",
    "```\n",
    "$ ls 01-pytorch-basics\n",
    "01-pytorch-basics.ipynb  environment.yml\n",
    "```\n",
    "\n",
    "4. Now we can enter the directory and install the required Python libraries (Jupyter, PyTorch etc.) with a single command using `jovian`:\n",
    "\n",
    "```\n",
    "$ cd 01-pytorch-basics\n",
    "$ jovian install\n",
    "```\n",
    "\n",
    "`jovian install` reads the `environment.yml` file, identifies the right dependencies for your operating system, creates a virtual environment with the given name (`01-pytorch-basics` by default) and installs all the required libraries inside the environment, to avoid modifying your system-wide installation of Python. It uses `conda` internally. If you face issues with `jovian install`, try running `conda env update` instead.\n",
    "\n",
    "5. We can activate the virtual environment by running\n",
    "\n",
    "```\n",
    "$ conda activate 01-pytorch-basics\n",
    "```\n",
    "\n",
    "For older installations of `conda`, you might need to run the command: `source activate 01-pytorch-basics`.\n",
    "\n",
    "6. Once the virtual environment is active, we can start Jupyter by running\n",
    "\n",
    "```\n",
    "$ jupyter notebook\n",
    "```\n",
    "\n",
    "7. You can now access Jupyter's web interface by clicking the link that shows up on the terminal or by visiting http://localhost:8888 on your browser. At this point, you can click on the notebook `01-pytorch-basics.ipynb` to open it and run the code. If you want to type out the code yourself, you can also create a new notebook using the 'New' button."
   ]
  },
  {
   "cell_type": "markdown",
   "metadata": {
    "colab_type": "text",
    "id": "zcM_oboVUAGL"
   },
   "source": [
    "We begin by importing PyTorch:"
   ]
  },
  {
   "cell_type": "code",
   "execution_count": 1,
   "metadata": {
    "colab": {
     "base_uri": "https://localhost:8080/",
     "height": 1000
    },
    "colab_type": "code",
    "executionInfo": {
     "elapsed": 133789,
     "status": "ok",
     "timestamp": 1590348524669,
     "user": {
      "displayName": "bharti kukreja",
      "photoUrl": "https://lh3.googleusercontent.com/a-/AOh14GjNK9LjvvqFz17Kkx9lgjlh9-eeE38SAKNVJmVJkQ=s64",
      "userId": "08813336470904671275"
     },
     "user_tz": -330
    },
    "id": "FKYhsZ35UAGM",
    "outputId": "7d44ffa4-0c19-439a-f791-08cebc5b91ad"
   },
   "outputs": [
    {
     "name": "stdout",
     "output_type": "stream",
     "text": [
      "--2020-05-24 19:26:33--  https://repo.continuum.io/archive/Anaconda3-5.1.0-Linux-x86_64.sh\n",
      "Resolving repo.continuum.io (repo.continuum.io)... 104.18.201.79, 104.18.200.79, 2606:4700::6812:c94f, ...\n",
      "Connecting to repo.continuum.io (repo.continuum.io)|104.18.201.79|:443... connected.\n",
      "HTTP request sent, awaiting response... 301 Moved Permanently\n",
      "Location: https://repo.anaconda.com/archive/Anaconda3-5.1.0-Linux-x86_64.sh [following]\n",
      "--2020-05-24 19:26:33--  https://repo.anaconda.com/archive/Anaconda3-5.1.0-Linux-x86_64.sh\n",
      "Resolving repo.anaconda.com (repo.anaconda.com)... 104.16.131.3, 104.16.130.3, 2606:4700::6810:8203, ...\n",
      "Connecting to repo.anaconda.com (repo.anaconda.com)|104.16.131.3|:443... connected.\n",
      "HTTP request sent, awaiting response... 416 Requested Range Not Satisfiable\n",
      "\n",
      "    The file is already fully retrieved; nothing to do.\n",
      "\n",
      "PREFIX=/usr/local\n",
      "installing: python-3.6.4-hc3d631a_1 ...\n",
      "Python 3.6.4 :: Anaconda, Inc.\n",
      "installing: ca-certificates-2017.08.26-h1d4fec5_0 ...\n",
      "installing: conda-env-2.6.0-h36134e3_1 ...\n",
      "installing: intel-openmp-2018.0.0-hc7b2577_8 ...\n",
      "installing: libgcc-ng-7.2.0-h7cc24e2_2 ...\n",
      "installing: libgfortran-ng-7.2.0-h9f7466a_2 ...\n",
      "installing: libstdcxx-ng-7.2.0-h7a57d05_2 ...\n",
      "installing: bzip2-1.0.6-h9a117a8_4 ...\n",
      "installing: expat-2.2.5-he0dffb1_0 ...\n",
      "installing: gmp-6.1.2-h6c8ec71_1 ...\n",
      "installing: graphite2-1.3.10-hf63cedd_1 ...\n",
      "installing: icu-58.2-h9c2bf20_1 ...\n",
      "installing: jbig-2.1-hdba287a_0 ...\n",
      "installing: jpeg-9b-h024ee3a_2 ...\n",
      "installing: libffi-3.2.1-hd88cf55_4 ...\n",
      "installing: libsodium-1.0.15-hf101ebd_0 ...\n",
      "installing: libtool-2.4.6-h544aabb_3 ...\n",
      "installing: libxcb-1.12-hcd93eb1_4 ...\n",
      "installing: lzo-2.10-h49e0be7_2 ...\n",
      "installing: mkl-2018.0.1-h19d6760_4 ...\n",
      "installing: ncurses-6.0-h9df7e31_2 ...\n",
      "installing: openssl-1.0.2n-hb7f436b_0 ...\n",
      "installing: patchelf-0.9-hf79760b_2 ...\n",
      "installing: pcre-8.41-hc27e229_1 ...\n",
      "installing: pixman-0.34.0-hceecf20_3 ...\n",
      "installing: tk-8.6.7-hc745277_3 ...\n",
      "installing: unixodbc-2.3.4-hc36303a_1 ...\n",
      "installing: xz-5.2.3-h55aa19d_2 ...\n",
      "installing: yaml-0.1.7-had09818_2 ...\n",
      "installing: zlib-1.2.11-ha838bed_2 ...\n",
      "installing: glib-2.53.6-h5d9569c_2 ...\n",
      "installing: hdf5-1.10.1-h9caa474_1 ...\n",
      "installing: libedit-3.1-heed3624_0 ...\n",
      "installing: libpng-1.6.34-hb9fc6fc_0 ...\n",
      "installing: libssh2-1.8.0-h9cfc8f7_4 ...\n",
      "installing: libtiff-4.0.9-h28f6b97_0 ...\n",
      "installing: libxml2-2.9.7-h26e45fe_0 ...\n",
      "installing: mpfr-3.1.5-h11a74b3_2 ...\n",
      "installing: pandoc-1.19.2.1-hea2e7c5_1 ...\n",
      "installing: readline-7.0-ha6073c6_4 ...\n",
      "installing: zeromq-4.2.2-hbedb6e5_2 ...\n",
      "installing: dbus-1.12.2-hc3f9b76_1 ...\n",
      "installing: freetype-2.8-hab7d2ae_1 ...\n",
      "installing: gstreamer-1.12.4-hb53b477_0 ...\n",
      "installing: libcurl-7.58.0-h1ad7b7a_0 ...\n",
      "installing: libxslt-1.1.32-h1312cb7_0 ...\n",
      "installing: mpc-1.0.3-hec55b23_5 ...\n",
      "installing: sqlite-3.22.0-h1bed415_0 ...\n",
      "installing: curl-7.58.0-h84994c4_0 ...\n",
      "installing: fontconfig-2.12.4-h88586e7_1 ...\n",
      "installing: gst-plugins-base-1.12.4-h33fb286_0 ...\n",
      "installing: alabaster-0.7.10-py36h306e16b_0 ...\n",
      "installing: asn1crypto-0.24.0-py36_0 ...\n",
      "installing: attrs-17.4.0-py36_0 ...\n",
      "installing: backports-1.0-py36hfa02d7e_1 ...\n",
      "installing: beautifulsoup4-4.6.0-py36h49b8c8c_1 ...\n",
      "installing: bitarray-0.8.1-py36h14c3975_1 ...\n",
      "installing: boto-2.48.0-py36h6e4cd66_1 ...\n",
      "installing: cairo-1.14.12-h77bcde2_0 ...\n",
      "installing: certifi-2018.1.18-py36_0 ...\n",
      "installing: chardet-3.0.4-py36h0f667ec_1 ...\n",
      "installing: click-6.7-py36h5253387_0 ...\n",
      "installing: cloudpickle-0.5.2-py36_1 ...\n",
      "installing: colorama-0.3.9-py36h489cec4_0 ...\n",
      "installing: contextlib2-0.5.5-py36h6c84a62_0 ...\n",
      "installing: dask-core-0.16.1-py36_0 ...\n",
      "installing: decorator-4.2.1-py36_0 ...\n",
      "installing: docutils-0.14-py36hb0f60f5_0 ...\n",
      "installing: entrypoints-0.2.3-py36h1aec115_2 ...\n",
      "installing: et_xmlfile-1.0.1-py36hd6bccc3_0 ...\n",
      "installing: fastcache-1.0.2-py36h14c3975_2 ...\n",
      "installing: filelock-2.0.13-py36h646ffb5_0 ...\n",
      "installing: glob2-0.6-py36he249c77_0 ...\n",
      "installing: gmpy2-2.0.8-py36hc8893dd_2 ...\n",
      "installing: greenlet-0.4.12-py36h2d503a6_0 ...\n",
      "installing: heapdict-1.0.0-py36_2 ...\n",
      "installing: idna-2.6-py36h82fb2a8_1 ...\n",
      "installing: imagesize-0.7.1-py36h52d8127_0 ...\n",
      "installing: ipython_genutils-0.2.0-py36hb52b0d5_0 ...\n",
      "installing: itsdangerous-0.24-py36h93cc618_1 ...\n",
      "installing: jdcal-1.3-py36h4c697fb_0 ...\n",
      "installing: lazy-object-proxy-1.3.1-py36h10fcdad_0 ...\n",
      "installing: llvmlite-0.21.0-py36ha241eea_0 ...\n",
      "installing: locket-0.2.0-py36h787c0ad_1 ...\n",
      "installing: lxml-4.1.1-py36hf71bdeb_1 ...\n",
      "installing: markupsafe-1.0-py36hd9260cd_1 ...\n",
      "installing: mccabe-0.6.1-py36h5ad9710_1 ...\n",
      "installing: mistune-0.8.3-py36_0 ...\n",
      "installing: mkl-service-1.1.2-py36h17a0993_4 ...\n",
      "installing: mpmath-1.0.0-py36hfeacd6b_2 ...\n",
      "installing: msgpack-python-0.5.1-py36h6bb024c_0 ...\n",
      "installing: multipledispatch-0.4.9-py36h41da3fb_0 ...\n",
      "installing: numpy-1.14.0-py36h3dfced4_1 ...\n",
      "installing: olefile-0.45.1-py36_0 ...\n",
      "installing: pandocfilters-1.4.2-py36ha6701b7_1 ...\n",
      "installing: parso-0.1.1-py36h35f843b_0 ...\n",
      "installing: path.py-10.5-py36h55ceabb_0 ...\n",
      "installing: pep8-1.7.1-py36_0 ...\n",
      "installing: pickleshare-0.7.4-py36h63277f8_0 ...\n",
      "installing: pkginfo-1.4.1-py36h215d178_1 ...\n",
      "installing: pluggy-0.6.0-py36hb689045_0 ...\n",
      "installing: ply-3.10-py36hed35086_0 ...\n",
      "installing: psutil-5.4.3-py36h14c3975_0 ...\n",
      "installing: ptyprocess-0.5.2-py36h69acd42_0 ...\n",
      "installing: py-1.5.2-py36h29bf505_0 ...\n",
      "installing: pycodestyle-2.3.1-py36hf609f19_0 ...\n",
      "installing: pycosat-0.6.3-py36h0a5515d_0 ...\n",
      "installing: pycparser-2.18-py36hf9f622e_1 ...\n",
      "installing: pycrypto-2.6.1-py36h14c3975_7 ...\n",
      "installing: pycurl-7.43.0.1-py36hb7f436b_0 ...\n",
      "installing: pyodbc-4.0.22-py36hf484d3e_0 ...\n",
      "installing: pyparsing-2.2.0-py36hee85983_1 ...\n",
      "installing: pysocks-1.6.7-py36hd97a5b1_1 ...\n",
      "installing: pytz-2017.3-py36h63b9c63_0 ...\n",
      "installing: pyyaml-3.12-py36hafb9ca4_1 ...\n",
      "installing: pyzmq-16.0.3-py36he2533c7_0 ...\n",
      "installing: qt-5.6.2-h974d657_12 ...\n",
      "installing: qtpy-1.3.1-py36h3691cc8_0 ...\n",
      "installing: rope-0.10.7-py36h147e2ec_0 ...\n",
      "installing: ruamel_yaml-0.15.35-py36h14c3975_1 ...\n",
      "installing: send2trash-1.4.2-py36_0 ...\n",
      "installing: simplegeneric-0.8.1-py36_2 ...\n",
      "installing: sip-4.18.1-py36h51ed4ed_2 ...\n",
      "installing: six-1.11.0-py36h372c433_1 ...\n",
      "installing: snowballstemmer-1.2.1-py36h6febd40_0 ...\n",
      "installing: sortedcontainers-1.5.9-py36_0 ...\n",
      "installing: sphinxcontrib-1.0-py36h6d0f590_1 ...\n",
      "installing: sqlalchemy-1.2.1-py36h14c3975_0 ...\n",
      "installing: tblib-1.3.2-py36h34cf8b6_0 ...\n",
      "installing: testpath-0.3.1-py36h8cadb63_0 ...\n",
      "installing: toolz-0.9.0-py36_0 ...\n",
      "installing: tornado-4.5.3-py36_0 ...\n",
      "installing: typing-3.6.2-py36h7da032a_0 ...\n",
      "installing: unicodecsv-0.14.1-py36ha668878_0 ...\n",
      "installing: wcwidth-0.1.7-py36hdf4376a_0 ...\n",
      "installing: webencodings-0.5.1-py36h800622e_1 ...\n",
      "installing: werkzeug-0.14.1-py36_0 ...\n",
      "installing: wrapt-1.10.11-py36h28b7045_0 ...\n",
      "installing: xlrd-1.1.0-py36h1db9f0c_1 ...\n",
      "installing: xlsxwriter-1.0.2-py36h3de1aca_0 ...\n",
      "installing: xlwt-1.3.0-py36h7b00a1f_0 ...\n",
      "installing: babel-2.5.3-py36_0 ...\n",
      "installing: backports.shutil_get_terminal_size-1.0.0-py36hfea85ff_2 ...\n",
      "installing: bottleneck-1.2.1-py36haac1ea0_0 ...\n",
      "installing: cffi-1.11.4-py36h9745a5d_0 ...\n",
      "installing: conda-verify-2.0.0-py36h98955d8_0 ...\n",
      "installing: cycler-0.10.0-py36h93f1223_0 ...\n",
      "installing: cytoolz-0.9.0-py36h14c3975_0 ...\n",
      "installing: h5py-2.7.1-py36h3585f63_0 ...\n",
      "installing: harfbuzz-1.7.4-hc5b324e_0 ...\n",
      "installing: html5lib-1.0.1-py36h2f9c1c0_0 ...\n",
      "installing: jedi-0.11.1-py36_0 ...\n",
      "installing: networkx-2.1-py36_0 ...\n",
      "installing: nltk-3.2.5-py36h7532b22_0 ...\n",
      "installing: numba-0.36.2-np114py36hc6662d5_0 ...\n",
      "installing: numexpr-2.6.4-py36hc4a3f9a_0 ...\n",
      "installing: openpyxl-2.4.10-py36_0 ...\n",
      "installing: packaging-16.8-py36ha668100_1 ...\n",
      "installing: partd-0.3.8-py36h36fd896_0 ...\n",
      "installing: pathlib2-2.3.0-py36h49efa8e_0 ...\n",
      "installing: pexpect-4.3.1-py36_0 ...\n",
      "installing: pillow-5.0.0-py36h3deb7b8_0 ...\n",
      "installing: pyqt-5.6.0-py36h0386399_5 ...\n",
      "installing: python-dateutil-2.6.1-py36h88d3b88_1 ...\n",
      "installing: pywavelets-0.5.2-py36he602eb0_0 ...\n",
      "installing: qtawesome-0.4.4-py36h609ed8c_0 ...\n",
      "installing: scipy-1.0.0-py36hbf646e7_0 ...\n",
      "installing: setuptools-38.4.0-py36_0 ...\n",
      "installing: singledispatch-3.4.0.3-py36h7a266c3_0 ...\n",
      "installing: sortedcollections-0.5.3-py36h3c761f9_0 ...\n",
      "installing: sphinxcontrib-websupport-1.0.1-py36hb5cb234_1 ...\n",
      "installing: sympy-1.1.1-py36hc6d1c1c_0 ...\n",
      "installing: terminado-0.8.1-py36_1 ...\n",
      "installing: traitlets-4.3.2-py36h674d592_0 ...\n",
      "installing: zict-0.1.3-py36h3a3bf81_0 ...\n",
      "installing: astroid-1.6.1-py36_0 ...\n",
      "installing: bleach-2.1.2-py36_0 ...\n",
      "installing: clyent-1.2.2-py36h7e57e65_1 ...\n",
      "installing: cryptography-2.1.4-py36hd09be54_0 ...\n",
      "installing: cython-0.27.3-py36h1860423_0 ...\n",
      "installing: datashape-0.5.4-py36h3ad6b5c_0 ...\n",
      "installing: distributed-1.20.2-py36_0 ...\n",
      "installing: get_terminal_size-1.0.0-haa9412d_0 ...\n",
      "installing: gevent-1.2.2-py36h2fe25dc_0 ...\n",
      "installing: imageio-2.2.0-py36he555465_0 ...\n",
      "installing: isort-4.2.15-py36had401c0_0 ...\n",
      "installing: jinja2-2.10-py36ha16c418_0 ...\n",
      "installing: jsonschema-2.6.0-py36h006f8b5_0 ...\n",
      "installing: jupyter_core-4.4.0-py36h7c827e3_0 ...\n",
      "installing: matplotlib-2.1.2-py36h0e671d2_0 ...\n",
      "installing: navigator-updater-0.1.0-py36h14770f7_0 ...\n",
      "installing: nose-1.3.7-py36hcdf7029_2 ...\n",
      "installing: pandas-0.22.0-py36hf484d3e_0 ...\n",
      "installing: pango-1.41.0-hd475d92_0 ...\n",
      "installing: patsy-0.5.0-py36_0 ...\n",
      "installing: pyflakes-1.6.0-py36h7bd6a15_0 ...\n",
      "installing: pygments-2.2.0-py36h0d3125c_0 ...\n",
      "installing: pytables-3.4.2-py36h3b5282a_2 ...\n",
      "installing: pytest-3.3.2-py36_0 ...\n",
      "installing: scikit-learn-0.19.1-py36h7aa7ec6_0 ...\n",
      "installing: wheel-0.30.0-py36hfd4bba0_1 ...\n",
      "installing: astropy-2.0.3-py36h14c3975_0 ...\n",
      "installing: bkcharts-0.2-py36h735825a_0 ...\n",
      "installing: bokeh-0.12.13-py36h2f9c1c0_0 ...\n",
      "installing: flask-0.12.2-py36hb24657c_0 ...\n",
      "installing: jupyter_client-5.2.2-py36_0 ...\n",
      "installing: nbformat-4.4.0-py36h31c9010_0 ...\n",
      "installing: pip-9.0.1-py36h6c6f9ce_4 ...\n",
      "installing: prompt_toolkit-1.0.15-py36h17d85b1_0 ...\n",
      "installing: pylint-1.8.2-py36_0 ...\n",
      "installing: pyopenssl-17.5.0-py36h20ba746_0 ...\n",
      "installing: statsmodels-0.8.0-py36h8533d0b_0 ...\n",
      "installing: dask-0.16.1-py36_0 ...\n",
      "installing: flask-cors-3.0.3-py36h2d857d3_0 ...\n",
      "installing: ipython-6.2.1-py36h88c514a_1 ...\n",
      "installing: nbconvert-5.3.1-py36hb41ffb7_0 ...\n",
      "installing: seaborn-0.8.1-py36hfad7ec4_0 ...\n",
      "installing: urllib3-1.22-py36hbe7ace6_0 ...\n",
      "installing: ipykernel-4.8.0-py36_0 ...\n",
      "installing: odo-0.5.1-py36h90ed295_0 ...\n",
      "installing: requests-2.18.4-py36he2e5f8d_1 ...\n",
      "installing: scikit-image-0.13.1-py36h14c3975_1 ...\n",
      "installing: anaconda-client-1.6.9-py36_0 ...\n",
      "installing: blaze-0.11.3-py36h4e06776_0 ...\n",
      "installing: jupyter_console-5.2.0-py36he59e554_1 ...\n",
      "installing: notebook-5.4.0-py36_0 ...\n",
      "installing: qtconsole-4.3.1-py36h8f73b5b_0 ...\n",
      "installing: sphinx-1.6.6-py36_0 ...\n",
      "installing: anaconda-project-0.8.2-py36h44fb852_0 ...\n",
      "installing: jupyterlab_launcher-0.10.2-py36_0 ...\n",
      "installing: numpydoc-0.7.0-py36h18f165f_0 ...\n",
      "installing: widgetsnbextension-3.1.0-py36_0 ...\n",
      "installing: anaconda-navigator-1.7.0-py36_0 ...\n",
      "installing: ipywidgets-7.1.1-py36_0 ...\n",
      "installing: jupyterlab-0.31.5-py36_0 ...\n",
      "installing: spyder-3.2.6-py36_0 ...\n",
      "installing: _ipyw_jlab_nb_ext_conf-0.1.0-py36he11e457_0 ...\n",
      "installing: jupyter-1.0.0-py36_4 ...\n",
      "installing: anaconda-5.1.0-py36_2 ...\n",
      "installing: conda-4.4.10-py36_0 ...\n",
      "installing: conda-build-3.4.1-py36_0 ...\n",
      "unlinking: ca-certificates-2020.1.1-0\n",
      "unlinking: certifi-2020.4.5.1-py36_0\n",
      "unlinking: libedit-3.1.20181209-hc058e9b_0\n",
      "unlinking: libgcc-ng-9.1.0-hdf63c60_0\n",
      "unlinking: ncurses-6.1-hf484d3e_0\n",
      "unlinking: numpy-1.14.2-py36hdbf6ddf_0\n",
      "unlinking: openssl-1.0.2u-h7b6447c_0\n",
      "unlinking: pip-20.0.2-py36_3\n",
      "unlinking: python-3.6.6-hc3d631a_0\n",
      "unlinking: readline-7.0-h7b6447c_5\n",
      "unlinking: setuptools-46.4.0-py36_0\n",
      "unlinking: sqlite-3.31.1-h7b6447c_0\n",
      "unlinking: tk-8.6.8-hbc83047_0\n",
      "unlinking: wheel-0.34.2-py36_0\n",
      "unlinking: xz-5.2.5-h7b6447c_0\n",
      "unlinking: zlib-1.2.11-h7b6447c_3\n",
      "installation finished.\n",
      "WARNING:\n",
      "    You currently have a PYTHONPATH environment variable set. This may cause\n",
      "    unexpected behavior when running the Python interpreter in Anaconda3.\n",
      "    For best results, please verify that your PYTHONPATH only points to\n",
      "    directories of packages that are compatible with the Python interpreter\n",
      "    in Anaconda3: /usr/local\n",
      "/bin/bash: -c: line 0: syntax error near unexpected token `newline'\n",
      "/bin/bash: -c: line 0: `conda install -q -y --prefix /usr/local -c conda-forge <PACKAGE_NAME>'\n"
     ]
    }
   ],
   "source": [
    "\n",
    "#https://towardsdatascience.com/google-colab-59ad8510eb7e \n",
    "# collab conda setup\n",
    "!wget -c https://repo.continuum.io/archive/Anaconda3-5.1.0-Linux-x86_64.sh\n",
    "!chmod +x Anaconda3-5.1.0-Linux-x86_64.sh\n",
    "!bash ./Anaconda3-5.1.0-Linux-x86_64.sh -b -f -p /usr/local\n",
    "!conda install -q -y --prefix /usr/local -c conda-forge <PACKAGE_NAME>\n",
    "import sys\n"
   ]
  },
  {
   "cell_type": "code",
   "execution_count": 0,
   "metadata": {
    "colab": {},
    "colab_type": "code",
    "id": "yQmDMidxDE0l"
   },
   "outputs": [],
   "source": []
  },
  {
   "cell_type": "code",
   "execution_count": 0,
   "metadata": {
    "colab": {},
    "colab_type": "code",
    "id": "0v5hoepNUAGP"
   },
   "outputs": [],
   "source": [
    "# Uncomment the command below if PyTorch is not installed\n",
    "#!conda install pytorch cpuonly -c pytorch -y\n",
    "#!conda install pytorch torchvision cudatoolkit=10.2 -c pytorch\n",
    "import torch"
   ]
  },
  {
   "cell_type": "markdown",
   "metadata": {
    "colab_type": "text",
    "id": "Qf01kQvQUAGS"
   },
   "source": [
    "## Tensors\n",
    "\n",
    "At its core, PyTorch is a library for processing tensors. A tensor is a number, vector, matrix or any n-dimensional array. Let's create a tensor with a single number:"
   ]
  },
  {
   "cell_type": "code",
   "execution_count": 2,
   "metadata": {
    "colab": {
     "base_uri": "https://localhost:8080/",
     "height": 34
    },
    "colab_type": "code",
    "executionInfo": {
     "elapsed": 1367,
     "status": "ok",
     "timestamp": 1590348671083,
     "user": {
      "displayName": "bharti kukreja",
      "photoUrl": "https://lh3.googleusercontent.com/a-/AOh14GjNK9LjvvqFz17Kkx9lgjlh9-eeE38SAKNVJmVJkQ=s64",
      "userId": "08813336470904671275"
     },
     "user_tz": -330
    },
    "id": "CEfn_1xgUAGS",
    "outputId": "ffd826a0-b7cf-4022-c8cc-b340fc945486"
   },
   "outputs": [
    {
     "data": {
      "text/plain": [
       "tensor(4.)"
      ]
     },
     "execution_count": 2,
     "metadata": {
      "tags": []
     },
     "output_type": "execute_result"
    }
   ],
   "source": [
    "# Number\n",
    "t1 = torch.tensor(4.)\n",
    "t1"
   ]
  },
  {
   "cell_type": "markdown",
   "metadata": {
    "colab_type": "text",
    "id": "4aOgy7FzUAGW"
   },
   "source": [
    "`4.` is a shorthand for `4.0`. It is used to indicate to Python (and PyTorch) that you want to create a floating point number. We can verify this by checking the `dtype` attribute of our tensor:"
   ]
  },
  {
   "cell_type": "code",
   "execution_count": 3,
   "metadata": {
    "colab": {
     "base_uri": "https://localhost:8080/",
     "height": 34
    },
    "colab_type": "code",
    "executionInfo": {
     "elapsed": 807,
     "status": "ok",
     "timestamp": 1590348671086,
     "user": {
      "displayName": "bharti kukreja",
      "photoUrl": "https://lh3.googleusercontent.com/a-/AOh14GjNK9LjvvqFz17Kkx9lgjlh9-eeE38SAKNVJmVJkQ=s64",
      "userId": "08813336470904671275"
     },
     "user_tz": -330
    },
    "id": "sD4O60nXUAGW",
    "outputId": "ca6a56d5-1a16-4f18-e585-d9023930f6e8"
   },
   "outputs": [
    {
     "data": {
      "text/plain": [
       "torch.float32"
      ]
     },
     "execution_count": 3,
     "metadata": {
      "tags": []
     },
     "output_type": "execute_result"
    }
   ],
   "source": [
    "t1.dtype"
   ]
  },
  {
   "cell_type": "markdown",
   "metadata": {
    "colab_type": "text",
    "id": "8XjBA03mUAGZ"
   },
   "source": [
    "Let's try creating slightly more complex tensors:"
   ]
  },
  {
   "cell_type": "code",
   "execution_count": 4,
   "metadata": {
    "colab": {
     "base_uri": "https://localhost:8080/",
     "height": 34
    },
    "colab_type": "code",
    "executionInfo": {
     "elapsed": 1041,
     "status": "ok",
     "timestamp": 1590348671668,
     "user": {
      "displayName": "bharti kukreja",
      "photoUrl": "https://lh3.googleusercontent.com/a-/AOh14GjNK9LjvvqFz17Kkx9lgjlh9-eeE38SAKNVJmVJkQ=s64",
      "userId": "08813336470904671275"
     },
     "user_tz": -330
    },
    "id": "che7GcLTUAGa",
    "outputId": "2594c20b-2e58-4821-9f8d-48b2446596e9"
   },
   "outputs": [
    {
     "data": {
      "text/plain": [
       "tensor([1., 2., 3., 4.])"
      ]
     },
     "execution_count": 4,
     "metadata": {
      "tags": []
     },
     "output_type": "execute_result"
    }
   ],
   "source": [
    "# Vector\n",
    "t2 = torch.tensor([1., 2, 3, 4])\n",
    "t2"
   ]
  },
  {
   "cell_type": "code",
   "execution_count": 5,
   "metadata": {
    "colab": {
     "base_uri": "https://localhost:8080/",
     "height": 68
    },
    "colab_type": "code",
    "executionInfo": {
     "elapsed": 1292,
     "status": "ok",
     "timestamp": 1590348672254,
     "user": {
      "displayName": "bharti kukreja",
      "photoUrl": "https://lh3.googleusercontent.com/a-/AOh14GjNK9LjvvqFz17Kkx9lgjlh9-eeE38SAKNVJmVJkQ=s64",
      "userId": "08813336470904671275"
     },
     "user_tz": -330
    },
    "id": "NMZNwkqjUAGc",
    "outputId": "9e71438a-5d30-4c65-846d-8d222a951966"
   },
   "outputs": [
    {
     "data": {
      "text/plain": [
       "tensor([[ 5.,  6.],\n",
       "        [ 7.,  8.],\n",
       "        [ 9., 10.]])"
      ]
     },
     "execution_count": 5,
     "metadata": {
      "tags": []
     },
     "output_type": "execute_result"
    }
   ],
   "source": [
    "# Matrix\n",
    "t3 = torch.tensor([[5., 6], \n",
    "                   [7, 8], \n",
    "                   [9, 10]])\n",
    "t3"
   ]
  },
  {
   "cell_type": "code",
   "execution_count": 6,
   "metadata": {
    "colab": {
     "base_uri": "https://localhost:8080/",
     "height": 102
    },
    "colab_type": "code",
    "executionInfo": {
     "elapsed": 1650,
     "status": "ok",
     "timestamp": 1590348672926,
     "user": {
      "displayName": "bharti kukreja",
      "photoUrl": "https://lh3.googleusercontent.com/a-/AOh14GjNK9LjvvqFz17Kkx9lgjlh9-eeE38SAKNVJmVJkQ=s64",
      "userId": "08813336470904671275"
     },
     "user_tz": -330
    },
    "id": "QZQS-1FcUAGf",
    "outputId": "9395a924-e954-48ba-99ed-74e28983d6cc"
   },
   "outputs": [
    {
     "data": {
      "text/plain": [
       "tensor([[[11., 12., 13.],\n",
       "         [13., 14., 15.]],\n",
       "\n",
       "        [[15., 16., 17.],\n",
       "         [17., 18., 19.]]])"
      ]
     },
     "execution_count": 6,
     "metadata": {
      "tags": []
     },
     "output_type": "execute_result"
    }
   ],
   "source": [
    "# 3-dimensional array\n",
    "t4 = torch.tensor([\n",
    "    [[11, 12, 13], \n",
    "     [13, 14, 15]], \n",
    "    [[15, 16, 17], \n",
    "     [17, 18, 19.]]])\n",
    "t4"
   ]
  },
  {
   "cell_type": "markdown",
   "metadata": {
    "colab_type": "text",
    "id": "tEnP-1NbUAGj"
   },
   "source": [
    "Tensors can have any number of dimensions, and different lengths along each dimension. We can inspect the length along each dimension using the `.shape` property of a tensor."
   ]
  },
  {
   "cell_type": "code",
   "execution_count": 7,
   "metadata": {
    "colab": {
     "base_uri": "https://localhost:8080/",
     "height": 51
    },
    "colab_type": "code",
    "executionInfo": {
     "elapsed": 1125,
     "status": "ok",
     "timestamp": 1590348673320,
     "user": {
      "displayName": "bharti kukreja",
      "photoUrl": "https://lh3.googleusercontent.com/a-/AOh14GjNK9LjvvqFz17Kkx9lgjlh9-eeE38SAKNVJmVJkQ=s64",
      "userId": "08813336470904671275"
     },
     "user_tz": -330
    },
    "id": "kpABPjw6UAGj",
    "outputId": "e05176f3-610a-4f78-f0d7-307cb8ba7647"
   },
   "outputs": [
    {
     "name": "stdout",
     "output_type": "stream",
     "text": [
      "tensor(4.)\n"
     ]
    },
    {
     "data": {
      "text/plain": [
       "torch.Size([])"
      ]
     },
     "execution_count": 7,
     "metadata": {
      "tags": []
     },
     "output_type": "execute_result"
    }
   ],
   "source": [
    "print(t1)\n",
    "t1.shape"
   ]
  },
  {
   "cell_type": "code",
   "execution_count": 8,
   "metadata": {
    "colab": {
     "base_uri": "https://localhost:8080/",
     "height": 51
    },
    "colab_type": "code",
    "executionInfo": {
     "elapsed": 1091,
     "status": "ok",
     "timestamp": 1590348673767,
     "user": {
      "displayName": "bharti kukreja",
      "photoUrl": "https://lh3.googleusercontent.com/a-/AOh14GjNK9LjvvqFz17Kkx9lgjlh9-eeE38SAKNVJmVJkQ=s64",
      "userId": "08813336470904671275"
     },
     "user_tz": -330
    },
    "id": "sJoi6DynUAGm",
    "outputId": "008afa43-4e3b-4f80-b85c-b1a226f17e47"
   },
   "outputs": [
    {
     "name": "stdout",
     "output_type": "stream",
     "text": [
      "tensor([1., 2., 3., 4.])\n"
     ]
    },
    {
     "data": {
      "text/plain": [
       "torch.Size([4])"
      ]
     },
     "execution_count": 8,
     "metadata": {
      "tags": []
     },
     "output_type": "execute_result"
    }
   ],
   "source": [
    "print(t2)\n",
    "t2.shape"
   ]
  },
  {
   "cell_type": "code",
   "execution_count": 9,
   "metadata": {
    "colab": {
     "base_uri": "https://localhost:8080/",
     "height": 85
    },
    "colab_type": "code",
    "executionInfo": {
     "elapsed": 1107,
     "status": "ok",
     "timestamp": 1590348674249,
     "user": {
      "displayName": "bharti kukreja",
      "photoUrl": "https://lh3.googleusercontent.com/a-/AOh14GjNK9LjvvqFz17Kkx9lgjlh9-eeE38SAKNVJmVJkQ=s64",
      "userId": "08813336470904671275"
     },
     "user_tz": -330
    },
    "id": "zpMmhCdbUAGn",
    "outputId": "8b5f97ce-b439-4bbe-b428-ef318801f662"
   },
   "outputs": [
    {
     "name": "stdout",
     "output_type": "stream",
     "text": [
      "tensor([[ 5.,  6.],\n",
      "        [ 7.,  8.],\n",
      "        [ 9., 10.]])\n"
     ]
    },
    {
     "data": {
      "text/plain": [
       "torch.Size([3, 2])"
      ]
     },
     "execution_count": 9,
     "metadata": {
      "tags": []
     },
     "output_type": "execute_result"
    }
   ],
   "source": [
    "print(t3)\n",
    "t3.shape"
   ]
  },
  {
   "cell_type": "code",
   "execution_count": 10,
   "metadata": {
    "colab": {
     "base_uri": "https://localhost:8080/",
     "height": 119
    },
    "colab_type": "code",
    "executionInfo": {
     "elapsed": 887,
     "status": "ok",
     "timestamp": 1590348674952,
     "user": {
      "displayName": "bharti kukreja",
      "photoUrl": "https://lh3.googleusercontent.com/a-/AOh14GjNK9LjvvqFz17Kkx9lgjlh9-eeE38SAKNVJmVJkQ=s64",
      "userId": "08813336470904671275"
     },
     "user_tz": -330
    },
    "id": "RN_9v7LtUAGp",
    "outputId": "dfd56377-7983-419d-ef50-fdc73826760d"
   },
   "outputs": [
    {
     "name": "stdout",
     "output_type": "stream",
     "text": [
      "tensor([[[11., 12., 13.],\n",
      "         [13., 14., 15.]],\n",
      "\n",
      "        [[15., 16., 17.],\n",
      "         [17., 18., 19.]]])\n"
     ]
    },
    {
     "data": {
      "text/plain": [
       "torch.Size([2, 2, 3])"
      ]
     },
     "execution_count": 10,
     "metadata": {
      "tags": []
     },
     "output_type": "execute_result"
    }
   ],
   "source": [
    "print(t4)\n",
    "t4.shape"
   ]
  },
  {
   "cell_type": "code",
   "execution_count": 0,
   "metadata": {
    "colab": {},
    "colab_type": "code",
    "id": "2mVUd1dOG6F5"
   },
   "outputs": [],
   "source": [
    "# str\n",
    "#t5 = torch.tensor(\"bharti\")\n",
    "# TypeError: new(): invalid data type 'str'"
   ]
  },
  {
   "cell_type": "markdown",
   "metadata": {
    "colab_type": "text",
    "id": "bGnc0L5MUAGr"
   },
   "source": [
    "## Tensor operations and gradients\n",
    "\n",
    "We can combine tensors with the usual arithmetic operations. Let's look an example:"
   ]
  },
  {
   "cell_type": "code",
   "execution_count": 12,
   "metadata": {
    "colab": {
     "base_uri": "https://localhost:8080/",
     "height": 34
    },
    "colab_type": "code",
    "executionInfo": {
     "elapsed": 1359,
     "status": "ok",
     "timestamp": 1590348680732,
     "user": {
      "displayName": "bharti kukreja",
      "photoUrl": "https://lh3.googleusercontent.com/a-/AOh14GjNK9LjvvqFz17Kkx9lgjlh9-eeE38SAKNVJmVJkQ=s64",
      "userId": "08813336470904671275"
     },
     "user_tz": -330
    },
    "id": "tWS1P4w8UAGs",
    "outputId": "38a96c6c-45b7-4bc9-d596-76f5f26695c8"
   },
   "outputs": [
    {
     "data": {
      "text/plain": [
       "(tensor(3.), tensor(4., requires_grad=True), tensor(5., requires_grad=True))"
      ]
     },
     "execution_count": 12,
     "metadata": {
      "tags": []
     },
     "output_type": "execute_result"
    }
   ],
   "source": [
    "# Create tensors.\n",
    "x = torch.tensor(3.)\n",
    "w = torch.tensor(4., requires_grad=True)\n",
    "b = torch.tensor(5., requires_grad=True)\n",
    "x, w, b"
   ]
  },
  {
   "cell_type": "markdown",
   "metadata": {
    "colab_type": "text",
    "id": "6rsewXnqUAGt"
   },
   "source": [
    "We've created 3 tensors `x`, `w` and `b`, all numbers. `w` and `b` have an additional parameter `requires_grad` set to `True`. We'll see what it does in just a moment. \n",
    "\n",
    "Let's create a new tensor `y` by combining these tensors:"
   ]
  },
  {
   "cell_type": "code",
   "execution_count": 13,
   "metadata": {
    "colab": {
     "base_uri": "https://localhost:8080/",
     "height": 34
    },
    "colab_type": "code",
    "executionInfo": {
     "elapsed": 722,
     "status": "ok",
     "timestamp": 1590348680734,
     "user": {
      "displayName": "bharti kukreja",
      "photoUrl": "https://lh3.googleusercontent.com/a-/AOh14GjNK9LjvvqFz17Kkx9lgjlh9-eeE38SAKNVJmVJkQ=s64",
      "userId": "08813336470904671275"
     },
     "user_tz": -330
    },
    "id": "v2twtLT3UAGu",
    "outputId": "dce5c7a5-b72a-4405-c760-039bb6732abd"
   },
   "outputs": [
    {
     "data": {
      "text/plain": [
       "tensor(17., grad_fn=<AddBackward0>)"
      ]
     },
     "execution_count": 13,
     "metadata": {
      "tags": []
     },
     "output_type": "execute_result"
    }
   ],
   "source": [
    "# Arithmetic operations\n",
    "y = w * x + b\n",
    "y"
   ]
  },
  {
   "cell_type": "markdown",
   "metadata": {
    "colab_type": "text",
    "id": "Fc5tTMgLUAGw"
   },
   "source": [
    "As expected, `y` is a tensor with the value `3 * 4 + 5 = 17`. What makes PyTorch special is that we can automatically compute the derivative of `y` w.r.t. the tensors that have `requires_grad` set to `True` i.e. w and b. To compute the derivatives, we can call the `.backward` method on our result `y`."
   ]
  },
  {
   "cell_type": "code",
   "execution_count": 0,
   "metadata": {
    "colab": {},
    "colab_type": "code",
    "id": "l98GsBM_UAGw"
   },
   "outputs": [],
   "source": [
    "# Compute derivatives\n",
    "y.backward()"
   ]
  },
  {
   "cell_type": "markdown",
   "metadata": {
    "colab_type": "text",
    "id": "3D8H_I-vUAGy"
   },
   "source": [
    "The derivates of `y` w.r.t the input tensors are stored in the `.grad` property of the respective tensors."
   ]
  },
  {
   "cell_type": "code",
   "execution_count": 15,
   "metadata": {
    "colab": {
     "base_uri": "https://localhost:8080/",
     "height": 68
    },
    "colab_type": "code",
    "executionInfo": {
     "elapsed": 715,
     "status": "ok",
     "timestamp": 1590348683003,
     "user": {
      "displayName": "bharti kukreja",
      "photoUrl": "https://lh3.googleusercontent.com/a-/AOh14GjNK9LjvvqFz17Kkx9lgjlh9-eeE38SAKNVJmVJkQ=s64",
      "userId": "08813336470904671275"
     },
     "user_tz": -330
    },
    "id": "jZaKo6U0UAGz",
    "outputId": "1c2aab46-878d-43d1-9f91-bc0c639669f7"
   },
   "outputs": [
    {
     "name": "stdout",
     "output_type": "stream",
     "text": [
      "dy/dx: None\n",
      "dy/dw: tensor(3.)\n",
      "dy/db: tensor(1.)\n"
     ]
    }
   ],
   "source": [
    "# Display gradients\n",
    "print('dy/dx:', x.grad)\n",
    "print('dy/dw:', w.grad)\n",
    "print('dy/db:', b.grad)"
   ]
  },
  {
   "cell_type": "markdown",
   "metadata": {
    "colab_type": "text",
    "id": "0JeatY9UUAG1"
   },
   "source": [
    "As expected, `dy/dw` has the same value as `x` i.e. `3`, and `dy/db` has the value `1`. Note that `x.grad` is `None`, because `x` doesn't have `requires_grad` set to `True`. \n",
    "\n",
    "The \"grad\" in `w.grad` stands for gradient, which is another term for derivative, used mainly when dealing with matrices. "
   ]
  },
  {
   "cell_type": "markdown",
   "metadata": {
    "colab_type": "text",
    "id": "9oOre1TAUAG1"
   },
   "source": [
    "## Interoperability with Numpy\n",
    "\n",
    "[Numpy](http://www.numpy.org/) is a popular open source library used for mathematical and scientific computing in Python. It enables efficient operations on large multi-dimensional arrays, and has a large ecosystem of supporting libraries:\n",
    "\n",
    "* [Matplotlib](https://matplotlib.org/) for plotting and visualization\n",
    "* [OpenCV](https://opencv.org/) for image and video processing\n",
    "* [Pandas](https://pandas.pydata.org/) for file I/O and data analysis\n",
    "\n",
    "Instead of reinventing the wheel, PyTorch interoperates really well with Numpy to leverage its existing ecosystem of tools and libraries."
   ]
  },
  {
   "cell_type": "markdown",
   "metadata": {
    "colab_type": "text",
    "id": "wArj-TjCUAG2"
   },
   "source": [
    "Here's how we create an array in Numpy:"
   ]
  },
  {
   "cell_type": "code",
   "execution_count": 16,
   "metadata": {
    "colab": {
     "base_uri": "https://localhost:8080/",
     "height": 51
    },
    "colab_type": "code",
    "executionInfo": {
     "elapsed": 1094,
     "status": "ok",
     "timestamp": 1590348687824,
     "user": {
      "displayName": "bharti kukreja",
      "photoUrl": "https://lh3.googleusercontent.com/a-/AOh14GjNK9LjvvqFz17Kkx9lgjlh9-eeE38SAKNVJmVJkQ=s64",
      "userId": "08813336470904671275"
     },
     "user_tz": -330
    },
    "id": "ozmlpvipUAG2",
    "outputId": "50e5fced-cb52-4944-cc7a-7e56b516f9b2"
   },
   "outputs": [
    {
     "data": {
      "text/plain": [
       "array([[1., 2.],\n",
       "       [3., 4.]])"
      ]
     },
     "execution_count": 16,
     "metadata": {
      "tags": []
     },
     "output_type": "execute_result"
    }
   ],
   "source": [
    "import numpy as np\n",
    "\n",
    "x = np.array([[1, 2], [3, 4.]])\n",
    "x"
   ]
  },
  {
   "cell_type": "markdown",
   "metadata": {
    "colab_type": "text",
    "id": "kVFUpbD4UAG4"
   },
   "source": [
    "We can convert a Numpy array to a PyTorch tensor using `torch.from_numpy`."
   ]
  },
  {
   "cell_type": "code",
   "execution_count": 17,
   "metadata": {
    "colab": {
     "base_uri": "https://localhost:8080/",
     "height": 51
    },
    "colab_type": "code",
    "executionInfo": {
     "elapsed": 993,
     "status": "ok",
     "timestamp": 1590348692489,
     "user": {
      "displayName": "bharti kukreja",
      "photoUrl": "https://lh3.googleusercontent.com/a-/AOh14GjNK9LjvvqFz17Kkx9lgjlh9-eeE38SAKNVJmVJkQ=s64",
      "userId": "08813336470904671275"
     },
     "user_tz": -330
    },
    "id": "TBqcW-HUUAG5",
    "outputId": "cf6dfa79-52ee-4957-e6d2-58e21333800e"
   },
   "outputs": [
    {
     "data": {
      "text/plain": [
       "tensor([[1., 2.],\n",
       "        [3., 4.]], dtype=torch.float64)"
      ]
     },
     "execution_count": 17,
     "metadata": {
      "tags": []
     },
     "output_type": "execute_result"
    }
   ],
   "source": [
    "# Convert the numpy array to a torch tensor.\n",
    "y = torch.from_numpy(x)\n",
    "y"
   ]
  },
  {
   "cell_type": "markdown",
   "metadata": {
    "colab_type": "text",
    "id": "eL87xHV2UAG6"
   },
   "source": [
    "Let's verify that the numpy array and torch tensor have similar data types."
   ]
  },
  {
   "cell_type": "code",
   "execution_count": 18,
   "metadata": {
    "colab": {
     "base_uri": "https://localhost:8080/",
     "height": 34
    },
    "colab_type": "code",
    "executionInfo": {
     "elapsed": 713,
     "status": "ok",
     "timestamp": 1590348692938,
     "user": {
      "displayName": "bharti kukreja",
      "photoUrl": "https://lh3.googleusercontent.com/a-/AOh14GjNK9LjvvqFz17Kkx9lgjlh9-eeE38SAKNVJmVJkQ=s64",
      "userId": "08813336470904671275"
     },
     "user_tz": -330
    },
    "id": "lLx7nV0gUAG7",
    "outputId": "1880597c-ab49-4222-94ba-6e67b272e62a"
   },
   "outputs": [
    {
     "data": {
      "text/plain": [
       "(dtype('float64'), torch.float64)"
      ]
     },
     "execution_count": 18,
     "metadata": {
      "tags": []
     },
     "output_type": "execute_result"
    }
   ],
   "source": [
    "x.dtype, y.dtype"
   ]
  },
  {
   "cell_type": "markdown",
   "metadata": {
    "colab_type": "text",
    "id": "mzyj8Og9UAG8"
   },
   "source": [
    "We can convert a PyTorch tensor to a Numpy array using the `.numpy` method of a tensor."
   ]
  },
  {
   "cell_type": "code",
   "execution_count": 19,
   "metadata": {
    "colab": {
     "base_uri": "https://localhost:8080/",
     "height": 51
    },
    "colab_type": "code",
    "executionInfo": {
     "elapsed": 1089,
     "status": "ok",
     "timestamp": 1590348696016,
     "user": {
      "displayName": "bharti kukreja",
      "photoUrl": "https://lh3.googleusercontent.com/a-/AOh14GjNK9LjvvqFz17Kkx9lgjlh9-eeE38SAKNVJmVJkQ=s64",
      "userId": "08813336470904671275"
     },
     "user_tz": -330
    },
    "id": "4kUr9fv6UAG9",
    "outputId": "fc219cac-ee13-453a-8d16-98879355b0a2"
   },
   "outputs": [
    {
     "data": {
      "text/plain": [
       "array([[1., 2.],\n",
       "       [3., 4.]])"
      ]
     },
     "execution_count": 19,
     "metadata": {
      "tags": []
     },
     "output_type": "execute_result"
    }
   ],
   "source": [
    "# Convert a torch tensor to a numpy array\n",
    "z = y.numpy()\n",
    "z"
   ]
  },
  {
   "cell_type": "markdown",
   "metadata": {
    "colab_type": "text",
    "id": "QLiXtJs7UAG_"
   },
   "source": [
    "The interoperability between PyTorch and Numpy is really important because most datasets you'll work with will likely be read and preprocessed as Numpy arrays."
   ]
  },
  {
   "cell_type": "markdown",
   "metadata": {
    "colab_type": "text",
    "id": "JCT9KPJ6UAG_"
   },
   "source": [
    "## Commit and upload the notebook\n",
    "\n",
    "As a final step, we can save and commit out work using the `jovian` library."
   ]
  },
  {
   "cell_type": "code",
   "execution_count": 1,
   "metadata": {
    "colab": {
     "base_uri": "https://localhost:8080/",
     "height": 170
    },
    "colab_type": "code",
    "executionInfo": {
     "elapsed": 3624,
     "status": "ok",
     "timestamp": 1590348722950,
     "user": {
      "displayName": "bharti kukreja",
      "photoUrl": "https://lh3.googleusercontent.com/a-/AOh14GjNK9LjvvqFz17Kkx9lgjlh9-eeE38SAKNVJmVJkQ=s64",
      "userId": "08813336470904671275"
     },
     "user_tz": -330
    },
    "id": "Unhx0QdwUAG_",
    "outputId": "2ae9b572-637f-42dd-91d8-1d8897516eab"
   },
   "outputs": [
    {
     "name": "stdout",
     "output_type": "stream",
     "text": [
      "Name: pip\n",
      "Version: 20.1.1\n",
      "Summary: The PyPA recommended tool for installing Python packages.\n",
      "Home-page: https://pip.pypa.io/\n",
      "Author: The pip developers\n",
      "Author-email: pypa-dev@groups.google.com\n",
      "License: MIT\n",
      "Location: c:\\users\\dell\\anaconda3\\lib\\site-packages\n",
      "Requires: \n",
      "Required-by: \n",
      "Requirement already up-to-date: jovian in c:\\users\\dell\\anaconda3\\lib\\site-packages (0.2.14)\n",
      "Requirement already satisfied, skipping upgrade: click in c:\\users\\dell\\anaconda3\\lib\\site-packages (from jovian) (6.7)\n",
      "Requirement already satisfied, skipping upgrade: pyyaml in c:\\users\\dell\\anaconda3\\lib\\site-packages (from jovian) (3.12)\n",
      "Requirement already satisfied, skipping upgrade: requests in c:\\users\\dell\\anaconda3\\lib\\site-packages (from jovian) (2.18.4)\n",
      "Requirement already satisfied, skipping upgrade: uuid in c:\\users\\dell\\anaconda3\\lib\\site-packages (from jovian) (1.30)\n",
      "Requirement already satisfied, skipping upgrade: chardet<3.1.0,>=3.0.2 in c:\\users\\dell\\anaconda3\\lib\\site-packages (from requests->jovian) (3.0.4)\n",
      "Requirement already satisfied, skipping upgrade: idna<2.7,>=2.5 in c:\\users\\dell\\anaconda3\\lib\\site-packages (from requests->jovian) (2.6)\n",
      "Requirement already satisfied, skipping upgrade: urllib3<1.23,>=1.21.1 in c:\\users\\dell\\anaconda3\\lib\\site-packages (from requests->jovian) (1.22)\n",
      "Requirement already satisfied, skipping upgrade: certifi>=2017.4.17 in c:\\users\\dell\\anaconda3\\lib\\site-packages (from requests->jovian) (2018.4.16)\n"
     ]
    }
   ],
   "source": [
    "#!C:\\Users\\dell\\Anaconda3\\python.exe -m pip install --upgrade pip\n",
    "!pip show pip\n",
    "!pip install jovian --upgrade "
   ]
  },
  {
   "cell_type": "code",
   "execution_count": 2,
   "metadata": {
    "colab": {
     "base_uri": "https://localhost:8080/",
     "height": 316
    },
    "colab_type": "code",
    "executionInfo": {
     "elapsed": 1456,
     "status": "error",
     "timestamp": 1590348726774,
     "user": {
      "displayName": "bharti kukreja",
      "photoUrl": "https://lh3.googleusercontent.com/a-/AOh14GjNK9LjvvqFz17Kkx9lgjlh9-eeE38SAKNVJmVJkQ=s64",
      "userId": "08813336470904671275"
     },
     "user_tz": -330
    },
    "id": "AolaZsk6UAHB",
    "outputId": "b8f12672-51b5-4b96-cc02-e41545e1e281"
   },
   "outputs": [
    {
     "data": {
      "application/javascript": [
       "if (window.IPython && IPython.notebook.kernel) IPython.notebook.kernel.execute('jovian.utils.jupyter.get_notebook_name_saved = lambda: \"' + IPython.notebook.notebook_name + '\"')"
      ],
      "text/plain": [
       "<IPython.core.display.Javascript object>"
      ]
     },
     "metadata": {},
     "output_type": "display_data"
    }
   ],
   "source": [
    "import jovian\n",
    "#!pip show jovian\n"
   ]
  },
  {
   "cell_type": "code",
   "execution_count": null,
   "metadata": {
    "colab": {
     "base_uri": "https://localhost:8080/",
     "height": 163
    },
    "colab_type": "code",
    "executionInfo": {
     "elapsed": 168267,
     "status": "error",
     "timestamp": 1590348559569,
     "user": {
      "displayName": "bharti kukreja",
      "photoUrl": "https://lh3.googleusercontent.com/a-/AOh14GjNK9LjvvqFz17Kkx9lgjlh9-eeE38SAKNVJmVJkQ=s64",
      "userId": "08813336470904671275"
     },
     "user_tz": -330
    },
    "id": "1evtLYCmUAHE",
    "outputId": "e09d7e33-120d-4897-d1b9-aa7919c57e8e"
   },
   "outputs": [
    {
     "data": {
      "application/javascript": [
       "window.require && require([\"base/js/namespace\"],function(Jupyter){Jupyter.notebook.save_checkpoint()})"
      ],
      "text/plain": [
       "<IPython.core.display.Javascript object>"
      ]
     },
     "metadata": {},
     "output_type": "display_data"
    },
    {
     "name": "stdout",
     "output_type": "stream",
     "text": [
      "[jovian] Attempting to save notebook..\n"
     ]
    }
   ],
   "source": [
    "jovian.commit()\n",
    "# UnsupportedOperation: not writable  \"You need to edit the \"echo\" function definition at ../site-packages/click/utils.py . The default value for the \"file\" parameter must be sys.stdout instead of None. Do the same for the \"secho\" function definition at ../site-packages/click/termui.py\""
   ]
  },
  {
   "cell_type": "markdown",
   "metadata": {
    "colab_type": "text",
    "id": "jEIpTXpJUAHF"
   },
   "source": [
    "`jovian.commit` uploads the notebook to your [Jovian.ml](https://www.jovian.ml) account, captures the Python environment and creates a sharable link for your notebook as shown above. You can use this link to share your work and let anyone reproduce it easily with the `jovian clone` command. Jovian also includes a powerful commenting interface, so you (and others) can discuss & comment on specific parts of your notebook:\n",
    "\n",
    "![commenting on jovian](https://cdn-images-1.medium.com/max/1600/1*b4snnr_5Ve5Nyq60iDtuuw.png)"
   ]
  },
  {
   "cell_type": "markdown",
   "metadata": {
    "colab_type": "text",
    "id": "fZ_xMHyHUAHG"
   },
   "source": [
    "## Further Reading\n",
    "\n",
    "Tensors in PyTorch support a variety of operations, and what we've covered here is by no means exhaustive. You can learn more about tensors and tensor operations here: https://pytorch.org/docs/stable/tensors.html\n",
    "\n",
    "You can take advantage of the interactive Jupyter environment to experiment with tensors and try different combinations of operations discussed above. Here are some things to try out:\n",
    "\n",
    "1. What if one or more `x`, `w` or `b` were matrices, instead of numbers, in the above example? What would the result `y` and the gradients `w.grad` and `b.grad` look like in this case?\n",
    "\n",
    "2. What if `y` was a matrix created using `torch.tensor`, with each element of the matrix expressed as a combination of numeric tensors `x`, `w` and `b`?\n",
    "\n",
    "3. What if we had a chain of operations instead of just one i.e. `y = x * w + b`, `z = l * y + m`, `w = c * z + d` and so on? What would calling `w.grad` do?\n",
    "\n",
    "If you're interested, you can learn more about matrix derivates on Wikipedia (although it's not necessary for following along with this series of tutorials): https://en.wikipedia.org/wiki/Matrix_calculus#Derivatives_with_matrices "
   ]
  },
  {
   "cell_type": "markdown",
   "metadata": {
    "colab_type": "text",
    "id": "bYhAvfEMUAHG"
   },
   "source": [
    "With this, we complete our discussion of tensors and gradients in PyTorch, and we're ready to move on to the next topic: *Linear regression*.\n",
    "\n",
    "## Credits\n",
    "\n",
    "The material in this series is heavily inspired by the following resources:\n",
    "\n",
    "1. [PyTorch Tutorial for Deep Learning Researchers](https://github.com/yunjey/pytorch-tutorial) by Yunjey Choi: \n",
    "\n",
    "2. [FastAI development notebooks](https://github.com/fastai/fastai_docs/tree/master/dev_nb) by Jeremy Howard: \n"
   ]
  }
 ],
 "metadata": {
  "colab": {
   "name": "freecodecamp_01-pytorch-basics.ipynb",
   "provenance": [
    {
     "file_id": "1Fl05JRmLZ_50a_Nq5wxQpm9vqXq-VORs",
     "timestamp": 1590336765698
    }
   ]
  },
  "kernelspec": {
   "display_name": "Python 3",
   "language": "python",
   "name": "python3"
  },
  "language_info": {
   "codemirror_mode": {
    "name": "ipython",
    "version": 3
   },
   "file_extension": ".py",
   "mimetype": "text/x-python",
   "name": "python",
   "nbconvert_exporter": "python",
   "pygments_lexer": "ipython3",
   "version": "3.6.5"
  }
 },
 "nbformat": 4,
 "nbformat_minor": 1
}
