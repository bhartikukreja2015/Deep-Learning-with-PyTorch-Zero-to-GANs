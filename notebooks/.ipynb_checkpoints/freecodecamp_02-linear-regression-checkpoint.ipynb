{
 "cells": [
  {
   "cell_type": "markdown",
   "metadata": {
    "colab_type": "text",
    "id": "OHBqi8HfaLPN"
   },
   "source": [
    "## Linear Regression with PyTorch\n",
    "\n",
    "#### Part 2 of \"PyTorch: Zero to GANs\"\n",
    "\n",
    "*This post is the second in a series of tutorials on building deep learning models with PyTorch, an open source neural networks library developed and maintained by Facebook. Check out the full series:*\n",
    "\n",
    "\n",
    "1. [PyTorch Basics: Tensors & Gradients](https://jovian.ml/aakashns/01-pytorch-basics)\n",
    "2. [Linear Regression & Gradient Descent](https://jovian.ml/aakashns/02-linear-regression)\n",
    "3. [Image Classfication using Logistic Regression](https://jovian.ml/aakashns/03-logistic-regression) \n",
    "4. [Training Deep Neural Networks on a GPU](https://jovian.ml/aakashns/04-feedforward-nn)\n",
    "5. [Image Classification using Convolutional Neural Networks](https://jovian.ml/aakashns/05-cifar10-cnn)\n",
    "6. [Data Augmentation, Regularization and ResNets](https://jovian.ml/aakashns/05b-cifar10-resnet)\n",
    "7. [Generating Images using Generative Adverserial Networks](https://jovian.ml/aakashns/06-mnist-gan)\n",
    "\n",
    "Continuing where the [previous tutorial](https://jvn.io/aakashns/3143ceb92b4f4cbbb4f30e203580b77b) left off, we'll discuss one of the foundational  algorithms of machine learning in this post: *Linear regression*. We'll create a model that predicts crop yields for apples and oranges (*target variables*) by looking at the average temperature, rainfall and humidity (*input variables or features*) in a region. Here's the training data:\n",
    "\n",
    "![linear-regression-training-data](https://i.imgur.com/6Ujttb4.png)\n",
    "\n",
    "In a linear regression model, each target variable is estimated to be a weighted sum of the input variables, offset by some constant, known as a bias :\n",
    "\n",
    "```\n",
    "yield_apple  = w11 * temp + w12 * rainfall + w13 * humidity + b1\n",
    "yield_orange = w21 * temp + w22 * rainfall + w23 * humidity + b2\n",
    "```\n",
    "\n",
    "Visually, it means that the yield of apples is a linear or planar function of temperature, rainfall and humidity:\n",
    "\n",
    "![linear-regression-graph](https://i.imgur.com/4DJ9f8X.png)\n",
    "\n",
    "The *learning* part of linear regression is to figure out a set of weights `w11, w12,... w23, b1 & b2` by looking at the training data, to make accurate predictions for new data (i.e. to predict the yields for apples and oranges in a new region using the average temperature, rainfall and humidity). This is done by adjusting the weights slightly many times to make better predictions, using an optimization technique called *gradient descent*."
   ]
  },
  {
   "cell_type": "markdown",
   "metadata": {
    "colab_type": "text",
    "id": "Qq41SOelaLPO"
   },
   "source": [
    "## System setup\n",
    "\n",
    "This tutorial takes a code-first approach towards learning PyTorch, and you should try to follow along by running and experimenting with the code yourself. The easiest way to start executing this notebook is to click the **\"Run\"** button at the top of this page, and select **\"Run on Binder\"**. This will run the notebook on [mybinder.org](https://mybinder.org), a free online service for running Jupyter notebooks.\n",
    "\n",
    "**NOTE**: *If you're running this notebook on Binder, please skip ahead to the next section.*\n",
    "\n",
    "### Running on your computer locally\n",
    "\n",
    "You can clone this notebook hosted on [Jovian.ml](https://www.jovian.ml), install the required dependencies, and start Jupyter by running the following commands on the terminal:\n",
    "\n",
    "```bash\n",
    "pip install jovian --upgrade    # Install the jovian library \n",
    "jovian clone aakashns/02-linear-regression      # Download notebook & dependencies\n",
    "cd 02-linear-regression         # Enter the created directory \n",
    "jovian install                  # Install the dependencies\n",
    "conda activate 02-linear-regression # Activate virtual environment\n",
    "jupyter notebook                # Start Jupyter\n",
    "```\n",
    "\n",
    "On older versions of conda, you might need to run `source activate 02-linear-regression` to activate the environment. For a more detailed explanation of the above steps, check out the *System setup* section in the [previous notebook](https://jovian.ml/aakashns/01-pytorch-basics)."
   ]
  },
  {
   "cell_type": "markdown",
   "metadata": {
    "colab_type": "text",
    "id": "bi0XffhjaLPP"
   },
   "source": [
    "We begin by importing Numpy and PyTorch:"
   ]
  },
  {
   "cell_type": "code",
   "execution_count": 0,
   "metadata": {
    "colab": {},
    "colab_type": "code",
    "id": "MNStH7uZaLPQ"
   },
   "outputs": [],
   "source": [
    "# Uncomment the command below if Numpy or PyTorch is not installed\n",
    "# !conda install numpy pytorch cpuonly -c pytorch -y"
   ]
  },
  {
   "cell_type": "code",
   "execution_count": 0,
   "metadata": {
    "colab": {},
    "colab_type": "code",
    "id": "_PaT1iW2aLPT"
   },
   "outputs": [],
   "source": [
    "import numpy as np\n",
    "import torch"
   ]
  },
  {
   "cell_type": "markdown",
   "metadata": {
    "colab_type": "text",
    "id": "I3nrELx-aLPW"
   },
   "source": [
    "## Training data\n",
    "\n",
    "The training data can be represented using 2 matrices: `inputs` and `targets`, each with one row per observation, and one column per variable."
   ]
  },
  {
   "cell_type": "code",
   "execution_count": 0,
   "metadata": {
    "colab": {},
    "colab_type": "code",
    "id": "Gf-D9NuYaLPX"
   },
   "outputs": [],
   "source": [
    "# Input (temp, rainfall, humidity)\n",
    "inputs = np.array([[73, 67, 43], \n",
    "                   [91, 88, 64], \n",
    "                   [87, 134, 58], \n",
    "                   [102, 43, 37], \n",
    "                   [69, 96, 70]], dtype='float32')"
   ]
  },
  {
   "cell_type": "code",
   "execution_count": 0,
   "metadata": {
    "colab": {},
    "colab_type": "code",
    "id": "iiki7_ybaLPa"
   },
   "outputs": [],
   "source": [
    "# Targets (apples, oranges)\n",
    "targets = np.array([[56, 70], \n",
    "                    [81, 101], \n",
    "                    [119, 133], \n",
    "                    [22, 37], \n",
    "                    [103, 119]], dtype='float32')"
   ]
  },
  {
   "cell_type": "markdown",
   "metadata": {
    "colab_type": "text",
    "id": "0IeQ7nKVaLPd"
   },
   "source": [
    "We've separated the input and target variables, because we'll operate on them separately. Also, we've created numpy arrays, because this is typically how you would work with training data: read some CSV files as numpy arrays, do some processing, and then convert them to PyTorch tensors as follows:"
   ]
  },
  {
   "cell_type": "code",
   "execution_count": 6,
   "metadata": {
    "colab": {
     "base_uri": "https://localhost:8080/",
     "height": 187
    },
    "colab_type": "code",
    "executionInfo": {
     "elapsed": 3336,
     "status": "ok",
     "timestamp": 1590766377955,
     "user": {
      "displayName": "bharti kukreja",
      "photoUrl": "https://lh3.googleusercontent.com/a-/AOh14GjNK9LjvvqFz17Kkx9lgjlh9-eeE38SAKNVJmVJkQ=s64",
      "userId": "08813336470904671275"
     },
     "user_tz": -330
    },
    "id": "R8nI7XVAaLPd",
    "outputId": "f2a2c2d9-0676-4bd9-ee8c-5aa3c854182b"
   },
   "outputs": [
    {
     "name": "stdout",
     "output_type": "stream",
     "text": [
      "tensor([[ 73.,  67.,  43.],\n",
      "        [ 91.,  88.,  64.],\n",
      "        [ 87., 134.,  58.],\n",
      "        [102.,  43.,  37.],\n",
      "        [ 69.,  96.,  70.]])\n",
      "tensor([[ 56.,  70.],\n",
      "        [ 81., 101.],\n",
      "        [119., 133.],\n",
      "        [ 22.,  37.],\n",
      "        [103., 119.]])\n"
     ]
    }
   ],
   "source": [
    "# Convert inputs and targets to tensors\n",
    "inputs = torch.from_numpy(inputs)\n",
    "targets = torch.from_numpy(targets)\n",
    "print(inputs)\n",
    "print(targets)"
   ]
  },
  {
   "cell_type": "markdown",
   "metadata": {
    "colab_type": "text",
    "id": "t2IHqMnxaLPh"
   },
   "source": [
    "## Linear regression model from scratch\n",
    "\n",
    "The weights and biases (`w11, w12,... w23, b1 & b2`) can also be represented as matrices, initialized as random values. The first row of `w` and the first element of `b` are used to predict the first target variable i.e. yield of apples, and similarly the second for oranges."
   ]
  },
  {
   "cell_type": "code",
   "execution_count": 7,
   "metadata": {
    "colab": {
     "base_uri": "https://localhost:8080/",
     "height": 68
    },
    "colab_type": "code",
    "executionInfo": {
     "elapsed": 3114,
     "status": "ok",
     "timestamp": 1590766379404,
     "user": {
      "displayName": "bharti kukreja",
      "photoUrl": "https://lh3.googleusercontent.com/a-/AOh14GjNK9LjvvqFz17Kkx9lgjlh9-eeE38SAKNVJmVJkQ=s64",
      "userId": "08813336470904671275"
     },
     "user_tz": -330
    },
    "id": "PqVFuZwfaLPi",
    "outputId": "486a9839-8adb-47af-d7c0-dd679a5e21b2"
   },
   "outputs": [
    {
     "name": "stdout",
     "output_type": "stream",
     "text": [
      "tensor([[-0.3339, -0.8500,  0.5824],\n",
      "        [-0.7147,  0.1155,  0.4422]], requires_grad=True)\n",
      "tensor([-0.6115, -0.1532], requires_grad=True)\n"
     ]
    }
   ],
   "source": [
    "# Weights and biases\n",
    "w = torch.randn(2, 3, requires_grad=True)\n",
    "b = torch.randn(2, requires_grad=True)\n",
    "print(w)\n",
    "print(b)"
   ]
  },
  {
   "cell_type": "markdown",
   "metadata": {
    "colab_type": "text",
    "id": "gVeIYAtGaLPl"
   },
   "source": [
    "`torch.randn` creates a tensor with the given shape, with elements picked randomly from a [normal distribution](https://en.wikipedia.org/wiki/Normal_distribution) with mean 0 and standard deviation 1.\n",
    "\n",
    "Our *model* is simply a function that performs a matrix multiplication of the `inputs` and the weights `w` (transposed) and adds the bias `b` (replicated for each observation).\n",
    "\n",
    "![matrix-mult](https://i.imgur.com/WGXLFvA.png)\n",
    "\n",
    "We can define the model as follows:"
   ]
  },
  {
   "cell_type": "code",
   "execution_count": 0,
   "metadata": {
    "colab": {},
    "colab_type": "code",
    "id": "-rZI-AhiaLPl"
   },
   "outputs": [],
   "source": [
    "def model(x):\n",
    "    return x @ w.t() + b"
   ]
  },
  {
   "cell_type": "markdown",
   "metadata": {
    "colab_type": "text",
    "id": "W1axXX3jaLPo"
   },
   "source": [
    "`@` represents matrix multiplication in PyTorch, and the `.t` method returns the transpose of a tensor.\n",
    "\n",
    "The matrix obtained by passing the input data into the model is a set of predictions for the target variables."
   ]
  },
  {
   "cell_type": "code",
   "execution_count": 9,
   "metadata": {
    "colab": {
     "base_uri": "https://localhost:8080/",
     "height": 102
    },
    "colab_type": "code",
    "executionInfo": {
     "elapsed": 2868,
     "status": "ok",
     "timestamp": 1590766381050,
     "user": {
      "displayName": "bharti kukreja",
      "photoUrl": "https://lh3.googleusercontent.com/a-/AOh14GjNK9LjvvqFz17Kkx9lgjlh9-eeE38SAKNVJmVJkQ=s64",
      "userId": "08813336470904671275"
     },
     "user_tz": -330
    },
    "id": "L1os0Kt2aLPo",
    "outputId": "9c4d4303-6ff0-44d0-f14f-0763be1670c0"
   },
   "outputs": [
    {
     "name": "stdout",
     "output_type": "stream",
     "text": [
      "tensor([[ -56.8873,  -25.5726],\n",
      "        [ -68.5156,  -26.7249],\n",
      "        [-109.7723,  -21.2046],\n",
      "        [ -49.6647,  -51.7264],\n",
      "        [ -64.4760,   -7.4229]], grad_fn=<AddBackward0>)\n"
     ]
    }
   ],
   "source": [
    "# Generate predictions\n",
    "preds = model(inputs)\n",
    "print(preds)"
   ]
  },
  {
   "cell_type": "markdown",
   "metadata": {
    "colab_type": "text",
    "id": "tUM46qWQaLPr"
   },
   "source": [
    "Let's compare the predictions of our model with the actual targets."
   ]
  },
  {
   "cell_type": "code",
   "execution_count": 10,
   "metadata": {
    "colab": {
     "base_uri": "https://localhost:8080/",
     "height": 102
    },
    "colab_type": "code",
    "executionInfo": {
     "elapsed": 3755,
     "status": "ok",
     "timestamp": 1590766382740,
     "user": {
      "displayName": "bharti kukreja",
      "photoUrl": "https://lh3.googleusercontent.com/a-/AOh14GjNK9LjvvqFz17Kkx9lgjlh9-eeE38SAKNVJmVJkQ=s64",
      "userId": "08813336470904671275"
     },
     "user_tz": -330
    },
    "id": "gLjowIfiaLPr",
    "outputId": "6c17f53a-caa5-4f3d-fd31-b83ef6be954a"
   },
   "outputs": [
    {
     "name": "stdout",
     "output_type": "stream",
     "text": [
      "tensor([[ 56.,  70.],\n",
      "        [ 81., 101.],\n",
      "        [119., 133.],\n",
      "        [ 22.,  37.],\n",
      "        [103., 119.]])\n"
     ]
    }
   ],
   "source": [
    "# Compare with targets\n",
    "print(targets)"
   ]
  },
  {
   "cell_type": "markdown",
   "metadata": {
    "colab_type": "text",
    "id": "9r_h0Vt_aLPv"
   },
   "source": [
    "You can see that there's a huge difference between the predictions of our model, and the actual values of the target variables. Obviously, this is because we've initialized our model with random weights and biases, and we can't expect it to *just work*."
   ]
  },
  {
   "cell_type": "markdown",
   "metadata": {
    "colab_type": "text",
    "id": "RfY8F2iOaLPv"
   },
   "source": [
    "## Loss function\n",
    "\n",
    "Before we improve our model, we need a way to evaluate how well our model is performing. We can compare the model's predictions with the actual targets, using the following method:\n",
    "\n",
    "* Calculate the difference between the two matrices (`preds` and `targets`).\n",
    "* Square all elements of the difference matrix to remove negative values.\n",
    "* Calculate the average of the elements in the resulting matrix.\n",
    "\n",
    "The result is a single number, known as the **mean squared error** (MSE)."
   ]
  },
  {
   "cell_type": "code",
   "execution_count": 14,
   "metadata": {
    "colab": {
     "base_uri": "https://localhost:8080/",
     "height": 102
    },
    "colab_type": "code",
    "executionInfo": {
     "elapsed": 1316,
     "status": "ok",
     "timestamp": 1590766434374,
     "user": {
      "displayName": "bharti kukreja",
      "photoUrl": "https://lh3.googleusercontent.com/a-/AOh14GjNK9LjvvqFz17Kkx9lgjlh9-eeE38SAKNVJmVJkQ=s64",
      "userId": "08813336470904671275"
     },
     "user_tz": -330
    },
    "id": "gdOfLuSnaLPw",
    "outputId": "a53f30aa-ef57-4df9-e12f-ba696e9ba49c"
   },
   "outputs": [
    {
     "data": {
      "text/plain": [
       "tensor([[-112.8873,  -95.5726],\n",
       "        [-149.5156, -127.7249],\n",
       "        [-228.7723, -154.2046],\n",
       "        [ -71.6647,  -88.7264],\n",
       "        [-167.4760, -126.4229]], grad_fn=<SubBackward0>)"
      ]
     },
     "execution_count": 14,
     "metadata": {
      "tags": []
     },
     "output_type": "execute_result"
    }
   ],
   "source": [
    "# MSE loss\n",
    "def mse(t1, t2):\n",
    "    diff = t1 - t2\n",
    "    return torch.sum(diff * diff) / diff.numel()\n",
    "# checking difference \n",
    "preds - targets"
   ]
  },
  {
   "cell_type": "markdown",
   "metadata": {
    "colab_type": "text",
    "id": "Wj4GTh7YaLPz"
   },
   "source": [
    "`torch.sum` returns the sum of all the elements in a tensor, and the `.numel` method returns the number of elements in a tensor. Let's compute the mean squared error for the current predictions of our model."
   ]
  },
  {
   "cell_type": "code",
   "execution_count": 15,
   "metadata": {
    "colab": {
     "base_uri": "https://localhost:8080/",
     "height": 34
    },
    "colab_type": "code",
    "executionInfo": {
     "elapsed": 1335,
     "status": "ok",
     "timestamp": 1590766706357,
     "user": {
      "displayName": "bharti kukreja",
      "photoUrl": "https://lh3.googleusercontent.com/a-/AOh14GjNK9LjvvqFz17Kkx9lgjlh9-eeE38SAKNVJmVJkQ=s64",
      "userId": "08813336470904671275"
     },
     "user_tz": -330
    },
    "id": "MI1b80OtaLPz",
    "outputId": "ac5f5b5a-7c71-43d6-b3cc-0a2f1da06204"
   },
   "outputs": [
    {
     "name": "stdout",
     "output_type": "stream",
     "text": [
      "tensor(19370.1250, grad_fn=<DivBackward0>)\n"
     ]
    }
   ],
   "source": [
    "# Compute loss\n",
    "loss = mse(preds, targets)\n",
    "print(loss)"
   ]
  },
  {
   "cell_type": "markdown",
   "metadata": {
    "colab_type": "text",
    "id": "3-6yqAvTaLP2"
   },
   "source": [
    "Here’s how we can interpret the result: *On average, each element in the prediction differs from the actual target by about 145 (square root of the loss 20834)*. And that’s pretty bad, considering the numbers we are trying to predict are themselves in the range 50–200. Also, the result is called the *loss*, because it indicates how bad the model is at predicting the target variables. Lower the loss, better the model."
   ]
  },
  {
   "cell_type": "markdown",
   "metadata": {
    "colab_type": "text",
    "id": "1jADpjMUaLP2"
   },
   "source": [
    "## Compute gradients\n",
    "\n",
    "With PyTorch, we can automatically compute the gradient or derivative of the loss w.r.t. to the weights and biases, because they have `requires_grad` set to `True`."
   ]
  },
  {
   "cell_type": "code",
   "execution_count": 0,
   "metadata": {
    "colab": {},
    "colab_type": "code",
    "id": "KEZfTmHEaLP3"
   },
   "outputs": [],
   "source": [
    "# Compute gradients\n",
    "loss.backward()"
   ]
  },
  {
   "cell_type": "markdown",
   "metadata": {
    "colab_type": "text",
    "id": "PqKVrYEbaLP5"
   },
   "source": [
    "The gradients are stored in the `.grad` property of the respective tensors. Note that the derivative of the loss w.r.t. the weights matrix is itself a matrix, with the same dimensions."
   ]
  },
  {
   "cell_type": "code",
   "execution_count": 22,
   "metadata": {
    "colab": {
     "base_uri": "https://localhost:8080/",
     "height": 119
    },
    "colab_type": "code",
    "executionInfo": {
     "elapsed": 1090,
     "status": "ok",
     "timestamp": 1590767003611,
     "user": {
      "displayName": "bharti kukreja",
      "photoUrl": "https://lh3.googleusercontent.com/a-/AOh14GjNK9LjvvqFz17Kkx9lgjlh9-eeE38SAKNVJmVJkQ=s64",
      "userId": "08813336470904671275"
     },
     "user_tz": -330
    },
    "id": "69d9LTrbaLP6",
    "outputId": "fdc59118-24d4-4860-bf4e-fcc818160749"
   },
   "outputs": [
    {
     "name": "stdout",
     "output_type": "stream",
     "text": [
      "tensor([[-0.3339, -0.8500,  0.5824],\n",
      "        [-0.7147,  0.1155,  0.4422]], requires_grad=True)\n",
      "tensor([[-12123.1074, -14107.1191,  -8413.3730],\n",
      "        [ -9957.7686, -10851.6826,  -6672.0732]])\n",
      "tensor([[-12123.1074, -14107.1191,  -8413.3730],\n",
      "        [ -9957.7686, -10851.6826,  -6672.0732]])\n"
     ]
    }
   ],
   "source": [
    "# Gradients for weights\n",
    "print(w) \n",
    "print(w.grad)\n",
    "print(w.grad.data)"
   ]
  },
  {
   "cell_type": "markdown",
   "metadata": {
    "colab_type": "text",
    "id": "28tK4OboaLP8"
   },
   "source": [
    "The loss is a [quadratic function](https://en.wikipedia.org/wiki/Quadratic_function) of our weights and biases, and our objective is to find the set of weights where the loss is the lowest. If we plot a graph of the loss w.r.t any individual weight or bias element, it will look like the figure shown below. A key insight from calculus is that the gradient indicates the rate of change of the loss, or the [slope](https://en.wikipedia.org/wiki/Slope) of the loss function w.r.t. the weights and biases.\n",
    "\n",
    "If a gradient element is **positive**:\n",
    "* **increasing** the element's value slightly will **increase** the loss.\n",
    "* **decreasing** the element's value slightly will **decrease** the loss\n",
    "\n",
    "![postive-gradient](https://i.imgur.com/hFYoVgU.png)\n",
    "\n",
    "If a gradient element is **negative**:\n",
    "* **increasing** the element's value slightly will **decrease** the loss.\n",
    "* **decreasing** the element's value slightly will **increase** the loss.\n",
    "\n",
    "![negative=gradient](https://i.imgur.com/w3Wii7C.png)\n",
    "\n",
    "The increase or decrease in loss by changing a weight element is proportional to the value of the gradient of the loss w.r.t. that element. This forms the basis for the optimization algorithm that we'll use to improve our model."
   ]
  },
  {
   "cell_type": "markdown",
   "metadata": {
    "colab_type": "text",
    "id": "n4hw5jckaLP9"
   },
   "source": [
    "Before we proceed, we reset the gradients to zero by calling `.zero_()` method. We need to do this, because PyTorch accumulates, gradients i.e. the next time we call `.backward` on the loss, the new gradient values will get added to the existing gradient values, which may lead to unexpected results."
   ]
  },
  {
   "cell_type": "code",
   "execution_count": 23,
   "metadata": {
    "colab": {
     "base_uri": "https://localhost:8080/",
     "height": 68
    },
    "colab_type": "code",
    "executionInfo": {
     "elapsed": 1147,
     "status": "ok",
     "timestamp": 1590767346189,
     "user": {
      "displayName": "bharti kukreja",
      "photoUrl": "https://lh3.googleusercontent.com/a-/AOh14GjNK9LjvvqFz17Kkx9lgjlh9-eeE38SAKNVJmVJkQ=s64",
      "userId": "08813336470904671275"
     },
     "user_tz": -330
    },
    "id": "r9Dl4CMdaLP9",
    "outputId": "9d958d71-0118-4912-ec50-079be79d31e0"
   },
   "outputs": [
    {
     "name": "stdout",
     "output_type": "stream",
     "text": [
      "tensor([[0., 0., 0.],\n",
      "        [0., 0., 0.]])\n",
      "tensor([0., 0.])\n"
     ]
    }
   ],
   "source": [
    "w.grad.zero_()\n",
    "b.grad.zero_()\n",
    "print(w.grad)\n",
    "print(b.grad)"
   ]
  },
  {
   "cell_type": "markdown",
   "metadata": {
    "colab_type": "text",
    "id": "BZpMK3QhaLQA"
   },
   "source": [
    "## Adjust weights and biases using gradient descent\n",
    "\n",
    "We'll reduce the loss and improve our model using the gradient descent optimization algorithm, which has the following steps:\n",
    "\n",
    "1. Generate predictions\n",
    "\n",
    "2. Calculate the loss\n",
    "\n",
    "3. Compute gradients w.r.t the weights and biases\n",
    "\n",
    "4. Adjust the weights by subtracting a small quantity proportional to the gradient\n",
    "\n",
    "5. Reset the gradients to zero\n",
    "\n",
    "Let's implement the above step by step."
   ]
  },
  {
   "cell_type": "code",
   "execution_count": 24,
   "metadata": {
    "colab": {
     "base_uri": "https://localhost:8080/",
     "height": 102
    },
    "colab_type": "code",
    "executionInfo": {
     "elapsed": 2899,
     "status": "ok",
     "timestamp": 1590767351829,
     "user": {
      "displayName": "bharti kukreja",
      "photoUrl": "https://lh3.googleusercontent.com/a-/AOh14GjNK9LjvvqFz17Kkx9lgjlh9-eeE38SAKNVJmVJkQ=s64",
      "userId": "08813336470904671275"
     },
     "user_tz": -330
    },
    "id": "M6Vrnm-ZaLQA",
    "outputId": "c6e30003-42e6-4142-cc81-ffd828b77667"
   },
   "outputs": [
    {
     "name": "stdout",
     "output_type": "stream",
     "text": [
      "tensor([[ -56.8873,  -25.5726],\n",
      "        [ -68.5156,  -26.7249],\n",
      "        [-109.7723,  -21.2046],\n",
      "        [ -49.6647,  -51.7264],\n",
      "        [ -64.4760,   -7.4229]], grad_fn=<AddBackward0>)\n"
     ]
    }
   ],
   "source": [
    "# Generate predictions\n",
    "preds = model(inputs)\n",
    "print(preds)"
   ]
  },
  {
   "cell_type": "markdown",
   "metadata": {
    "colab_type": "text",
    "id": "cM_eM8KWaLQC"
   },
   "source": [
    "Note that the predictions are same as before, since we haven't made any changes to our model. The same holds true for the loss and gradients."
   ]
  },
  {
   "cell_type": "code",
   "execution_count": 25,
   "metadata": {
    "colab": {
     "base_uri": "https://localhost:8080/",
     "height": 34
    },
    "colab_type": "code",
    "executionInfo": {
     "elapsed": 1420,
     "status": "ok",
     "timestamp": 1590767354047,
     "user": {
      "displayName": "bharti kukreja",
      "photoUrl": "https://lh3.googleusercontent.com/a-/AOh14GjNK9LjvvqFz17Kkx9lgjlh9-eeE38SAKNVJmVJkQ=s64",
      "userId": "08813336470904671275"
     },
     "user_tz": -330
    },
    "id": "-JU-0GlgaLQD",
    "outputId": "436af340-9cff-4122-84fa-9d236e8990aa"
   },
   "outputs": [
    {
     "name": "stdout",
     "output_type": "stream",
     "text": [
      "tensor(19370.1250, grad_fn=<DivBackward0>)\n"
     ]
    }
   ],
   "source": [
    "# Calculate the loss\n",
    "loss = mse(preds, targets)\n",
    "print(loss)"
   ]
  },
  {
   "cell_type": "code",
   "execution_count": 26,
   "metadata": {
    "colab": {
     "base_uri": "https://localhost:8080/",
     "height": 68
    },
    "colab_type": "code",
    "executionInfo": {
     "elapsed": 698,
     "status": "ok",
     "timestamp": 1590767354048,
     "user": {
      "displayName": "bharti kukreja",
      "photoUrl": "https://lh3.googleusercontent.com/a-/AOh14GjNK9LjvvqFz17Kkx9lgjlh9-eeE38SAKNVJmVJkQ=s64",
      "userId": "08813336470904671275"
     },
     "user_tz": -330
    },
    "id": "Xrs6TCBmaLQF",
    "outputId": "9c081e80-e0b1-4666-f48a-c11814fdbc92"
   },
   "outputs": [
    {
     "name": "stdout",
     "output_type": "stream",
     "text": [
      "tensor([[-12123.1074, -14107.1191,  -8413.3730],\n",
      "        [ -9957.7686, -10851.6826,  -6672.0732]])\n",
      "tensor([-146.0632, -118.5303])\n"
     ]
    }
   ],
   "source": [
    "# Compute gradients\n",
    "loss.backward()\n",
    "print(w.grad)\n",
    "print(b.grad)"
   ]
  },
  {
   "cell_type": "markdown",
   "metadata": {
    "colab_type": "text",
    "id": "W3t5WApmaLQH"
   },
   "source": [
    "Finally, we update the weights and biases using the gradients computed above."
   ]
  },
  {
   "cell_type": "code",
   "execution_count": 0,
   "metadata": {
    "colab": {},
    "colab_type": "code",
    "id": "FIBCZ0hAaLQI"
   },
   "outputs": [],
   "source": [
    "# Adjust weights & reset gradients\n",
    "with torch.no_grad():\n",
    "    w -= w.grad * 1e-5\n",
    "    b -= b.grad * 1e-5\n",
    "    w.grad.zero_()\n",
    "    b.grad.zero_()"
   ]
  },
  {
   "cell_type": "markdown",
   "metadata": {
    "colab_type": "text",
    "id": "vWonDfUNaLQK"
   },
   "source": [
    "A few things to note above:\n",
    "\n",
    "* We use `torch.no_grad` to indicate to PyTorch that we shouldn't track, calculate or modify gradients while updating the weights and biases. \n",
    "\n",
    "* We multiply the gradients with a really small number (`10^-5` in this case), to ensure that we don't modify the weights by a really large amount, since we only want to take a small step in the downhill direction of the gradient. This number is called the *learning rate* of the algorithm. \n",
    "\n",
    "* After we have updated the weights, we reset the gradients back to zero, to avoid affecting any future computations."
   ]
  },
  {
   "cell_type": "markdown",
   "metadata": {
    "colab_type": "text",
    "id": "C5n2Kd26aLQK"
   },
   "source": [
    "Let's take a look at the new weights and biases."
   ]
  },
  {
   "cell_type": "code",
   "execution_count": 29,
   "metadata": {
    "colab": {
     "base_uri": "https://localhost:8080/",
     "height": 68
    },
    "colab_type": "code",
    "executionInfo": {
     "elapsed": 2469,
     "status": "ok",
     "timestamp": 1590767370982,
     "user": {
      "displayName": "bharti kukreja",
      "photoUrl": "https://lh3.googleusercontent.com/a-/AOh14GjNK9LjvvqFz17Kkx9lgjlh9-eeE38SAKNVJmVJkQ=s64",
      "userId": "08813336470904671275"
     },
     "user_tz": -330
    },
    "id": "VDKUIelWaLQL",
    "outputId": "d5ad5960-6059-4743-c931-e6ae53150061"
   },
   "outputs": [
    {
     "name": "stdout",
     "output_type": "stream",
     "text": [
      "tensor([[-0.2126, -0.7089,  0.6665],\n",
      "        [-0.6152,  0.2241,  0.5089]], requires_grad=True)\n",
      "tensor([-0.6100, -0.1520], requires_grad=True)\n"
     ]
    }
   ],
   "source": [
    "print(w)\n",
    "print(b)"
   ]
  },
  {
   "cell_type": "markdown",
   "metadata": {
    "colab_type": "text",
    "id": "30TZPd_faLQN"
   },
   "source": [
    "With the new weights and biases, the model should have lower loss."
   ]
  },
  {
   "cell_type": "code",
   "execution_count": 30,
   "metadata": {
    "colab": {
     "base_uri": "https://localhost:8080/",
     "height": 34
    },
    "colab_type": "code",
    "executionInfo": {
     "elapsed": 2304,
     "status": "ok",
     "timestamp": 1590767371674,
     "user": {
      "displayName": "bharti kukreja",
      "photoUrl": "https://lh3.googleusercontent.com/a-/AOh14GjNK9LjvvqFz17Kkx9lgjlh9-eeE38SAKNVJmVJkQ=s64",
      "userId": "08813336470904671275"
     },
     "user_tz": -330
    },
    "id": "kYmo-DVjaLQN",
    "outputId": "3a180086-c389-4b35-f9d0-944035efd905"
   },
   "outputs": [
    {
     "name": "stdout",
     "output_type": "stream",
     "text": [
      "tensor(13194.6465, grad_fn=<DivBackward0>)\n"
     ]
    }
   ],
   "source": [
    "# Calculate loss\n",
    "preds = model(inputs)\n",
    "loss = mse(preds, targets)\n",
    "print(loss)"
   ]
  },
  {
   "cell_type": "markdown",
   "metadata": {
    "colab_type": "text",
    "id": "ns55a7UZaLQQ"
   },
   "source": [
    "We have already achieved a significant reduction in the loss, simply by adjusting the weights and biases slightly using gradient descent."
   ]
  },
  {
   "cell_type": "markdown",
   "metadata": {
    "colab_type": "text",
    "id": "_fbEGGpbaLQR"
   },
   "source": [
    "## Train for multiple epochs\n",
    "\n",
    "To reduce the loss further, we can repeat the process of adjusting the weights and biases using the gradients multiple times. Each iteration is called an epoch. Let's train the model for 100 epochs."
   ]
  },
  {
   "cell_type": "code",
   "execution_count": 0,
   "metadata": {
    "colab": {},
    "colab_type": "code",
    "id": "7CfNKgp2aLQR"
   },
   "outputs": [],
   "source": [
    "# Train for 100 epochs\n",
    "for i in range(95):\n",
    "    preds = model(inputs)\n",
    "    loss = mse(preds, targets)\n",
    "    loss.backward()\n",
    "    with torch.no_grad():\n",
    "        w -= w.grad * 1e-5\n",
    "        b -= b.grad * 1e-5\n",
    "        w.grad.zero_()\n",
    "        b.grad.zero_()"
   ]
  },
  {
   "cell_type": "markdown",
   "metadata": {
    "colab_type": "text",
    "id": "d7I5xk1taLQU"
   },
   "source": [
    "Once again, let's verify that the loss is now lower:"
   ]
  },
  {
   "cell_type": "code",
   "execution_count": 39,
   "metadata": {
    "colab": {
     "base_uri": "https://localhost:8080/",
     "height": 34
    },
    "colab_type": "code",
    "executionInfo": {
     "elapsed": 2071,
     "status": "ok",
     "timestamp": 1590767406939,
     "user": {
      "displayName": "bharti kukreja",
      "photoUrl": "https://lh3.googleusercontent.com/a-/AOh14GjNK9LjvvqFz17Kkx9lgjlh9-eeE38SAKNVJmVJkQ=s64",
      "userId": "08813336470904671275"
     },
     "user_tz": -330
    },
    "id": "rvqmyGo6aLQU",
    "outputId": "0bdb8b54-7779-4f03-d101-75fc6273bceb"
   },
   "outputs": [
    {
     "name": "stdout",
     "output_type": "stream",
     "text": [
      "tensor(7.8048, grad_fn=<DivBackward0>)\n"
     ]
    }
   ],
   "source": [
    "# Calculate loss\n",
    "preds = model(inputs)\n",
    "loss = mse(preds, targets)\n",
    "print(loss)"
   ]
  },
  {
   "cell_type": "markdown",
   "metadata": {
    "colab_type": "text",
    "id": "bk6EioV5aLQW"
   },
   "source": [
    "As you can see, the loss is now much lower than what we started out with. Let's look at the model's predictions and compare them with the targets."
   ]
  },
  {
   "cell_type": "code",
   "execution_count": 40,
   "metadata": {
    "colab": {
     "base_uri": "https://localhost:8080/",
     "height": 102
    },
    "colab_type": "code",
    "executionInfo": {
     "elapsed": 1079,
     "status": "ok",
     "timestamp": 1590767411561,
     "user": {
      "displayName": "bharti kukreja",
      "photoUrl": "https://lh3.googleusercontent.com/a-/AOh14GjNK9LjvvqFz17Kkx9lgjlh9-eeE38SAKNVJmVJkQ=s64",
      "userId": "08813336470904671275"
     },
     "user_tz": -330
    },
    "id": "JVwDqyLaaLQW",
    "outputId": "3eb39904-271f-4d8f-b590-9387846ca4eb"
   },
   "outputs": [
    {
     "data": {
      "text/plain": [
       "tensor([[ 57.4048,  70.4237],\n",
       "        [ 85.0149, 100.3271],\n",
       "        [111.9198, 133.5539],\n",
       "        [ 23.3340,  37.7826],\n",
       "        [105.3705, 118.0642]], grad_fn=<AddBackward0>)"
      ]
     },
     "execution_count": 40,
     "metadata": {
      "tags": []
     },
     "output_type": "execute_result"
    }
   ],
   "source": [
    "# Predictions\n",
    "preds"
   ]
  },
  {
   "cell_type": "code",
   "execution_count": 41,
   "metadata": {
    "colab": {
     "base_uri": "https://localhost:8080/",
     "height": 102
    },
    "colab_type": "code",
    "executionInfo": {
     "elapsed": 1286,
     "status": "ok",
     "timestamp": 1590767415031,
     "user": {
      "displayName": "bharti kukreja",
      "photoUrl": "https://lh3.googleusercontent.com/a-/AOh14GjNK9LjvvqFz17Kkx9lgjlh9-eeE38SAKNVJmVJkQ=s64",
      "userId": "08813336470904671275"
     },
     "user_tz": -330
    },
    "id": "ZpamdR8JaLQY",
    "outputId": "397e59d6-6c51-45bf-a138-2827119a2aca"
   },
   "outputs": [
    {
     "data": {
      "text/plain": [
       "tensor([[ 56.,  70.],\n",
       "        [ 81., 101.],\n",
       "        [119., 133.],\n",
       "        [ 22.,  37.],\n",
       "        [103., 119.]])"
      ]
     },
     "execution_count": 41,
     "metadata": {
      "tags": []
     },
     "output_type": "execute_result"
    }
   ],
   "source": [
    "# Targets\n",
    "targets"
   ]
  },
  {
   "cell_type": "markdown",
   "metadata": {
    "colab_type": "text",
    "id": "BHLqbU5UaLQb"
   },
   "source": [
    "The prediction are now quite close to the target variables, and we can get even better results by training for a few more epochs. \n",
    "\n",
    "At this point, we can save our notebook and upload it to [Jovian.ml](https://www.jovian.ml) for future reference and sharing."
   ]
  },
  {
   "cell_type": "code",
   "execution_count": 42,
   "metadata": {
    "colab": {
     "base_uri": "https://localhost:8080/",
     "height": 51
    },
    "colab_type": "code",
    "executionInfo": {
     "elapsed": 6897,
     "status": "ok",
     "timestamp": 1590767422399,
     "user": {
      "displayName": "bharti kukreja",
      "photoUrl": "https://lh3.googleusercontent.com/a-/AOh14GjNK9LjvvqFz17Kkx9lgjlh9-eeE38SAKNVJmVJkQ=s64",
      "userId": "08813336470904671275"
     },
     "user_tz": -330
    },
    "id": "socqXJ53aLQb",
    "outputId": "8b7da95b-5597-4bae-ae7c-a0430aaf49a9"
   },
   "outputs": [
    {
     "name": "stdout",
     "output_type": "stream",
     "text": [
      "\u001b[?25l\r",
      "\u001b[K     |████                            | 10kB 21.1MB/s eta 0:00:01\r",
      "\u001b[K     |███████▉                        | 20kB 3.4MB/s eta 0:00:01\r",
      "\u001b[K     |███████████▉                    | 30kB 4.1MB/s eta 0:00:01\r",
      "\u001b[K     |███████████████▊                | 40kB 4.5MB/s eta 0:00:01\r",
      "\u001b[K     |███████████████████▋            | 51kB 3.8MB/s eta 0:00:01\r",
      "\u001b[K     |███████████████████████▋        | 61kB 4.3MB/s eta 0:00:01\r",
      "\u001b[K     |███████████████████████████▌    | 71kB 4.5MB/s eta 0:00:01\r",
      "\u001b[K     |███████████████████████████████▍| 81kB 4.9MB/s eta 0:00:01\r",
      "\u001b[K     |████████████████████████████████| 92kB 3.4MB/s \n",
      "\u001b[?25h  Building wheel for uuid (setup.py) ... \u001b[?25l\u001b[?25hdone\n"
     ]
    }
   ],
   "source": [
    "!pip install jovian --upgrade -q"
   ]
  },
  {
   "cell_type": "code",
   "execution_count": 0,
   "metadata": {
    "colab": {},
    "colab_type": "code",
    "id": "jUj4lKn4aLQe"
   },
   "outputs": [],
   "source": [
    "import jovian"
   ]
  },
  {
   "cell_type": "code",
   "execution_count": 44,
   "metadata": {
    "colab": {
     "base_uri": "https://localhost:8080/",
     "height": 34
    },
    "colab_type": "code",
    "executionInfo": {
     "elapsed": 1025,
     "status": "ok",
     "timestamp": 1590767425660,
     "user": {
      "displayName": "bharti kukreja",
      "photoUrl": "https://lh3.googleusercontent.com/a-/AOh14GjNK9LjvvqFz17Kkx9lgjlh9-eeE38SAKNVJmVJkQ=s64",
      "userId": "08813336470904671275"
     },
     "user_tz": -330
    },
    "id": "qgtxMCzNaLQh",
    "outputId": "2f714022-cf9b-4266-9e56-7179b64cb21e"
   },
   "outputs": [
    {
     "name": "stderr",
     "output_type": "stream",
     "text": [
      "\u001b[31m[jovian] Error: Failed to detect Jupyter notebook or Python script. Skipping..\u001b[0m\n"
     ]
    }
   ],
   "source": [
    "jovian.commit()"
   ]
  },
  {
   "cell_type": "markdown",
   "metadata": {
    "colab_type": "text",
    "id": "0_NRtdJwaLQj"
   },
   "source": [
    "`jovian.commit` uploads the notebook to [Jovian.ml](https://www.jovian.ml), captures the Python environment and creates a sharable link for the notebook. You can use this link to share your work and let anyone reproduce it easily with the `jovian clone` command.  Jovian also includes a powerful commenting interface, so you (and others) can discuss & comment on specific parts of your notebook:\n",
    "\n",
    "![commenting on jovian](https://cdn-images-1.medium.com/max/1600/1*b4snnr_5Ve5Nyq60iDtuuw.png)"
   ]
  },
  {
   "cell_type": "markdown",
   "metadata": {
    "colab_type": "text",
    "id": "W4Ora70zaLQk"
   },
   "source": [
    "## Linear regression using PyTorch built-ins\n",
    "\n",
    "The model and training process above were implemented using basic matrix operations. But since this such a common pattern , PyTorch has several built-in functions and classes to make it easy to create and train models.\n",
    "\n",
    "Let's begin by importing the `torch.nn` package from PyTorch, which contains utility classes for building neural networks."
   ]
  },
  {
   "cell_type": "code",
   "execution_count": 0,
   "metadata": {
    "colab": {},
    "colab_type": "code",
    "id": "D-gCVEbaaLQk"
   },
   "outputs": [],
   "source": [
    "import torch.nn as nn"
   ]
  },
  {
   "cell_type": "markdown",
   "metadata": {
    "colab_type": "text",
    "id": "UiqIaFkZaLQm"
   },
   "source": [
    "As before, we represent the inputs and targets and matrices."
   ]
  },
  {
   "cell_type": "code",
   "execution_count": 0,
   "metadata": {
    "colab": {},
    "colab_type": "code",
    "id": "QPQPsoAoaLQm"
   },
   "outputs": [],
   "source": [
    "# Input (temp, rainfall, humidity)\n",
    "inputs = np.array([[73, 67, 43], [91, 88, 64], [87, 134, 58], \n",
    "                   [102, 43, 37], [69, 96, 70], [73, 67, 43], \n",
    "                   [91, 88, 64], [87, 134, 58], [102, 43, 37], \n",
    "                   [69, 96, 70], [73, 67, 43], [91, 88, 64], \n",
    "                   [87, 134, 58], [102, 43, 37], [69, 96, 70]], \n",
    "                  dtype='float32')\n",
    "\n",
    "# Targets (apples, oranges)\n",
    "targets = np.array([[56, 70], [81, 101], [119, 133], \n",
    "                    [22, 37], [103, 119], [56, 70], \n",
    "                    [81, 101], [119, 133], [22, 37], \n",
    "                    [103, 119], [56, 70], [81, 101], \n",
    "                    [119, 133], [22, 37], [103, 119]], \n",
    "                   dtype='float32')\n",
    "\n",
    "inputs = torch.from_numpy(inputs)\n",
    "targets = torch.from_numpy(targets)"
   ]
  },
  {
   "cell_type": "code",
   "execution_count": 48,
   "metadata": {
    "colab": {
     "base_uri": "https://localhost:8080/",
     "height": 272
    },
    "colab_type": "code",
    "executionInfo": {
     "elapsed": 1197,
     "status": "ok",
     "timestamp": 1590775096670,
     "user": {
      "displayName": "bharti kukreja",
      "photoUrl": "https://lh3.googleusercontent.com/a-/AOh14GjNK9LjvvqFz17Kkx9lgjlh9-eeE38SAKNVJmVJkQ=s64",
      "userId": "08813336470904671275"
     },
     "user_tz": -330
    },
    "id": "cy435ssKaLQn",
    "outputId": "107254d5-ab73-40bb-905a-ee14d7ce1507"
   },
   "outputs": [
    {
     "data": {
      "text/plain": [
       "tensor([[ 73.,  67.,  43.],\n",
       "        [ 91.,  88.,  64.],\n",
       "        [ 87., 134.,  58.],\n",
       "        [102.,  43.,  37.],\n",
       "        [ 69.,  96.,  70.],\n",
       "        [ 73.,  67.,  43.],\n",
       "        [ 91.,  88.,  64.],\n",
       "        [ 87., 134.,  58.],\n",
       "        [102.,  43.,  37.],\n",
       "        [ 69.,  96.,  70.],\n",
       "        [ 73.,  67.,  43.],\n",
       "        [ 91.,  88.,  64.],\n",
       "        [ 87., 134.,  58.],\n",
       "        [102.,  43.,  37.],\n",
       "        [ 69.,  96.,  70.]])"
      ]
     },
     "execution_count": 48,
     "metadata": {
      "tags": []
     },
     "output_type": "execute_result"
    }
   ],
   "source": [
    "inputs"
   ]
  },
  {
   "cell_type": "markdown",
   "metadata": {
    "colab_type": "text",
    "id": "SIbQ-RZIaLQp"
   },
   "source": [
    "We are using 15 training examples this time, to illustrate how to work with large datasets in small batches."
   ]
  },
  {
   "cell_type": "markdown",
   "metadata": {
    "colab_type": "text",
    "id": "W-grc1ozaLQq"
   },
   "source": [
    "## Dataset and DataLoader\n",
    "\n",
    "We'll create a `TensorDataset`, which allows access to rows from `inputs` and `targets` as tuples, and provides standard APIs for working with many different types of datasets in PyTorch."
   ]
  },
  {
   "cell_type": "code",
   "execution_count": 0,
   "metadata": {
    "colab": {},
    "colab_type": "code",
    "id": "Y3Wcq4Q7aLQq"
   },
   "outputs": [],
   "source": [
    "from torch.utils.data import TensorDataset"
   ]
  },
  {
   "cell_type": "code",
   "execution_count": 50,
   "metadata": {
    "colab": {
     "base_uri": "https://localhost:8080/",
     "height": 102
    },
    "colab_type": "code",
    "executionInfo": {
     "elapsed": 751,
     "status": "ok",
     "timestamp": 1590775099700,
     "user": {
      "displayName": "bharti kukreja",
      "photoUrl": "https://lh3.googleusercontent.com/a-/AOh14GjNK9LjvvqFz17Kkx9lgjlh9-eeE38SAKNVJmVJkQ=s64",
      "userId": "08813336470904671275"
     },
     "user_tz": -330
    },
    "id": "lUssmNtLaLQs",
    "outputId": "8ff54bca-bd5c-439e-aca2-5c11a3808f05"
   },
   "outputs": [
    {
     "data": {
      "text/plain": [
       "(tensor([[ 73.,  67.,  43.],\n",
       "         [ 91.,  88.,  64.],\n",
       "         [ 87., 134.,  58.]]), tensor([[ 56.,  70.],\n",
       "         [ 81., 101.],\n",
       "         [119., 133.]]))"
      ]
     },
     "execution_count": 50,
     "metadata": {
      "tags": []
     },
     "output_type": "execute_result"
    }
   ],
   "source": [
    "# Define dataset\n",
    "train_ds = TensorDataset(inputs, targets)\n",
    "train_ds[0:3]"
   ]
  },
  {
   "cell_type": "markdown",
   "metadata": {
    "colab_type": "text",
    "id": "Dh7Yy1I8aLQu"
   },
   "source": [
    "The `TensorDataset` allows us to access a small section of the training data using the array indexing notation (`[0:3]` in the above code). It returns a tuple (or pair), in which the first element contains the input variables for the selected rows, and the second contains the targets."
   ]
  },
  {
   "cell_type": "markdown",
   "metadata": {
    "colab_type": "text",
    "id": "VxBEBDeWaLQu"
   },
   "source": [
    "We'll also create a `DataLoader`, which can split the data into batches of a predefined size while training. It also provides other utilities like shuffling and random sampling of the data."
   ]
  },
  {
   "cell_type": "code",
   "execution_count": 0,
   "metadata": {
    "colab": {},
    "colab_type": "code",
    "id": "biObRiX1aLQu"
   },
   "outputs": [],
   "source": [
    "from torch.utils.data import DataLoader"
   ]
  },
  {
   "cell_type": "code",
   "execution_count": 0,
   "metadata": {
    "colab": {},
    "colab_type": "code",
    "id": "mGcaoxXhaLQx"
   },
   "outputs": [],
   "source": [
    "# Define data loader\n",
    "batch_size = 5\n",
    "train_dl = DataLoader(train_ds, batch_size, shuffle=True)"
   ]
  },
  {
   "cell_type": "markdown",
   "metadata": {
    "colab_type": "text",
    "id": "hnkAw_ROaLQy"
   },
   "source": [
    "The data loader is typically used in a `for-in` loop. Let's look at an example."
   ]
  },
  {
   "cell_type": "code",
   "execution_count": 53,
   "metadata": {
    "colab": {
     "base_uri": "https://localhost:8080/",
     "height": 187
    },
    "colab_type": "code",
    "executionInfo": {
     "elapsed": 1016,
     "status": "ok",
     "timestamp": 1590775104455,
     "user": {
      "displayName": "bharti kukreja",
      "photoUrl": "https://lh3.googleusercontent.com/a-/AOh14GjNK9LjvvqFz17Kkx9lgjlh9-eeE38SAKNVJmVJkQ=s64",
      "userId": "08813336470904671275"
     },
     "user_tz": -330
    },
    "id": "naWKZu82aLQz",
    "outputId": "fb712090-ba88-4337-ee6b-982d45886d29"
   },
   "outputs": [
    {
     "name": "stdout",
     "output_type": "stream",
     "text": [
      "tensor([[ 91.,  88.,  64.],\n",
      "        [ 69.,  96.,  70.],\n",
      "        [ 73.,  67.,  43.],\n",
      "        [102.,  43.,  37.],\n",
      "        [ 91.,  88.,  64.]])\n",
      "tensor([[ 81., 101.],\n",
      "        [103., 119.],\n",
      "        [ 56.,  70.],\n",
      "        [ 22.,  37.],\n",
      "        [ 81., 101.]])\n"
     ]
    }
   ],
   "source": [
    "for xb, yb in train_dl:\n",
    "    print(xb)\n",
    "    print(yb)\n",
    "    break"
   ]
  },
  {
   "cell_type": "markdown",
   "metadata": {
    "colab_type": "text",
    "id": "-2lswbmfaLQ1"
   },
   "source": [
    "In each iteration, the data loader returns one batch of data, with the given batch size. If `shuffle` is set to `True`, it shuffles the training data before creating batches. Shuffling helps randomize the input to the optimization algorithm, which can lead to faster reduction in the loss."
   ]
  },
  {
   "cell_type": "markdown",
   "metadata": {
    "colab_type": "text",
    "id": "ZVXsQWueaLQ1"
   },
   "source": [
    "## nn.Linear\n",
    "\n",
    "Instead of initializing the weights & biases manually, we can define the model using the `nn.Linear` class from PyTorch, which does it automatically."
   ]
  },
  {
   "cell_type": "code",
   "execution_count": 54,
   "metadata": {
    "colab": {
     "base_uri": "https://localhost:8080/",
     "height": 102
    },
    "colab_type": "code",
    "executionInfo": {
     "elapsed": 1116,
     "status": "ok",
     "timestamp": 1590775106869,
     "user": {
      "displayName": "bharti kukreja",
      "photoUrl": "https://lh3.googleusercontent.com/a-/AOh14GjNK9LjvvqFz17Kkx9lgjlh9-eeE38SAKNVJmVJkQ=s64",
      "userId": "08813336470904671275"
     },
     "user_tz": -330
    },
    "id": "l5xA-ETLaLQ2",
    "outputId": "101cbfac-e923-4f95-ab60-bf020eb13439"
   },
   "outputs": [
    {
     "name": "stdout",
     "output_type": "stream",
     "text": [
      "Parameter containing:\n",
      "tensor([[ 0.0853,  0.1252,  0.2242],\n",
      "        [ 0.4520, -0.5080, -0.4641]], requires_grad=True)\n",
      "Parameter containing:\n",
      "tensor([-0.4430,  0.4309], requires_grad=True)\n"
     ]
    }
   ],
   "source": [
    "# Define model\n",
    "model = nn.Linear(3, 2)\n",
    "print(model.weight)\n",
    "print(model.bias)"
   ]
  },
  {
   "cell_type": "markdown",
   "metadata": {
    "colab_type": "text",
    "id": "C9Qb8agbaLQ4"
   },
   "source": [
    "PyTorch models also have a helpful `.parameters` method, which returns a list containing all the weights and bias matrices present in the model. For our linear regression model, we have one weight matrix and one bias matrix."
   ]
  },
  {
   "cell_type": "code",
   "execution_count": 55,
   "metadata": {
    "colab": {
     "base_uri": "https://localhost:8080/",
     "height": 102
    },
    "colab_type": "code",
    "executionInfo": {
     "elapsed": 853,
     "status": "ok",
     "timestamp": 1590775108285,
     "user": {
      "displayName": "bharti kukreja",
      "photoUrl": "https://lh3.googleusercontent.com/a-/AOh14GjNK9LjvvqFz17Kkx9lgjlh9-eeE38SAKNVJmVJkQ=s64",
      "userId": "08813336470904671275"
     },
     "user_tz": -330
    },
    "id": "Zk4POtEzaLQ4",
    "outputId": "904eb560-f173-4d6d-a855-8d211052eddc"
   },
   "outputs": [
    {
     "data": {
      "text/plain": [
       "[Parameter containing:\n",
       " tensor([[ 0.0853,  0.1252,  0.2242],\n",
       "         [ 0.4520, -0.5080, -0.4641]], requires_grad=True),\n",
       " Parameter containing:\n",
       " tensor([-0.4430,  0.4309], requires_grad=True)]"
      ]
     },
     "execution_count": 55,
     "metadata": {
      "tags": []
     },
     "output_type": "execute_result"
    }
   ],
   "source": [
    "# Parameters\n",
    "list(model.parameters())"
   ]
  },
  {
   "cell_type": "markdown",
   "metadata": {
    "colab_type": "text",
    "id": "gnOVHjwdaLQ6"
   },
   "source": [
    "We can use the model to generate predictions in the exact same way as before:"
   ]
  },
  {
   "cell_type": "code",
   "execution_count": 56,
   "metadata": {
    "colab": {
     "base_uri": "https://localhost:8080/",
     "height": 272
    },
    "colab_type": "code",
    "executionInfo": {
     "elapsed": 727,
     "status": "ok",
     "timestamp": 1590775109439,
     "user": {
      "displayName": "bharti kukreja",
      "photoUrl": "https://lh3.googleusercontent.com/a-/AOh14GjNK9LjvvqFz17Kkx9lgjlh9-eeE38SAKNVJmVJkQ=s64",
      "userId": "08813336470904671275"
     },
     "user_tz": -330
    },
    "id": "ZOT1Nx4uaLQ6",
    "outputId": "e65c2bb4-3869-4b2c-89da-47b58153c721"
   },
   "outputs": [
    {
     "data": {
      "text/plain": [
       "tensor([[ 23.8121, -20.5616],\n",
       "        [ 32.6846, -32.8389],\n",
       "        [ 36.7568, -55.2296],\n",
       "        [ 21.9362,   7.5240],\n",
       "        [ 33.1545, -49.6325],\n",
       "        [ 23.8121, -20.5616],\n",
       "        [ 32.6846, -32.8389],\n",
       "        [ 36.7568, -55.2296],\n",
       "        [ 21.9362,   7.5240],\n",
       "        [ 33.1545, -49.6325],\n",
       "        [ 23.8121, -20.5616],\n",
       "        [ 32.6846, -32.8389],\n",
       "        [ 36.7568, -55.2296],\n",
       "        [ 21.9362,   7.5240],\n",
       "        [ 33.1545, -49.6325]], grad_fn=<AddmmBackward>)"
      ]
     },
     "execution_count": 56,
     "metadata": {
      "tags": []
     },
     "output_type": "execute_result"
    }
   ],
   "source": [
    "# Generate predictions\n",
    "preds = model(inputs)\n",
    "preds"
   ]
  },
  {
   "cell_type": "markdown",
   "metadata": {
    "colab_type": "text",
    "id": "Rdi-_9zMaLQ8"
   },
   "source": [
    "## Loss Function\n",
    "\n",
    "Instead of defining a loss function manually, we can use the built-in loss function `mse_loss`."
   ]
  },
  {
   "cell_type": "code",
   "execution_count": 0,
   "metadata": {
    "colab": {},
    "colab_type": "code",
    "id": "l7Tsa9VuaLQ8"
   },
   "outputs": [],
   "source": [
    "# Import nn.functional\n",
    "import torch.nn.functional as F"
   ]
  },
  {
   "cell_type": "markdown",
   "metadata": {
    "colab_type": "text",
    "id": "cqwRjociaLQ-"
   },
   "source": [
    "The `nn.functional` package contains many useful loss functions and several other utilities. "
   ]
  },
  {
   "cell_type": "code",
   "execution_count": 0,
   "metadata": {
    "colab": {},
    "colab_type": "code",
    "id": "eSO_5gHRaLQ-"
   },
   "outputs": [],
   "source": [
    "# Define loss function\n",
    "loss_fn = F.mse_loss"
   ]
  },
  {
   "cell_type": "markdown",
   "metadata": {
    "colab_type": "text",
    "id": "jHeGizgCaLQ_"
   },
   "source": [
    "Let's compute the loss for the current predictions of our model."
   ]
  },
  {
   "cell_type": "code",
   "execution_count": 59,
   "metadata": {
    "colab": {
     "base_uri": "https://localhost:8080/",
     "height": 34
    },
    "colab_type": "code",
    "executionInfo": {
     "elapsed": 768,
     "status": "ok",
     "timestamp": 1590775114439,
     "user": {
      "displayName": "bharti kukreja",
      "photoUrl": "https://lh3.googleusercontent.com/a-/AOh14GjNK9LjvvqFz17Kkx9lgjlh9-eeE38SAKNVJmVJkQ=s64",
      "userId": "08813336470904671275"
     },
     "user_tz": -330
    },
    "id": "--7LjAJdaLQ_",
    "outputId": "b66bc087-1079-49e7-9b98-a7f5d7ffc589"
   },
   "outputs": [
    {
     "name": "stdout",
     "output_type": "stream",
     "text": [
      "tensor(10586.3164, grad_fn=<MseLossBackward>)\n"
     ]
    }
   ],
   "source": [
    "loss = loss_fn(model(inputs), targets)\n",
    "print(loss)"
   ]
  },
  {
   "cell_type": "markdown",
   "metadata": {
    "colab_type": "text",
    "id": "uQ0Nbr4jaLRB"
   },
   "source": [
    "## Optimizer\n",
    "\n",
    "Instead of manually manipulating the model's weights & biases using gradients, we can use the optimizer `optim.SGD`. SGD stands for `stochastic gradient descent`. It is called `stochastic` because samples are selected in batches (often with random shuffling) instead of as a single group."
   ]
  },
  {
   "cell_type": "code",
   "execution_count": 0,
   "metadata": {
    "colab": {},
    "colab_type": "code",
    "id": "-Y1GtBgsaLRB"
   },
   "outputs": [],
   "source": [
    "# Define optimizer\n",
    "opt = torch.optim.SGD(model.parameters(), lr=1e-5)"
   ]
  },
  {
   "cell_type": "markdown",
   "metadata": {
    "colab_type": "text",
    "id": "p8b-mlUiaLRC"
   },
   "source": [
    "Note that `model.parameters()` is passed as an argument to `optim.SGD`, so that the optimizer knows which matrices should be modified during the update step. Also, we can specify a learning rate which controls the amount by which the parameters are modified."
   ]
  },
  {
   "cell_type": "markdown",
   "metadata": {
    "colab_type": "text",
    "id": "rUfJLgDlaLRD"
   },
   "source": [
    "## Train the model\n",
    "\n",
    "We are now ready to train the model. We'll follow the exact same process to implement gradient descent:\n",
    "\n",
    "1. Generate predictions\n",
    "\n",
    "2. Calculate the loss\n",
    "\n",
    "3. Compute gradients w.r.t the weights and biases\n",
    "\n",
    "4. Adjust the weights by subtracting a small quantity proportional to the gradient\n",
    "\n",
    "5. Reset the gradients to zero\n",
    "\n",
    "The only change is that we'll work batches of data, instead of processing the entire training data in every iteration. Let's define a utility function `fit` which trains the model for a given number of epochs."
   ]
  },
  {
   "cell_type": "code",
   "execution_count": 0,
   "metadata": {
    "colab": {},
    "colab_type": "code",
    "id": "5XGsG0NaaLRD"
   },
   "outputs": [],
   "source": [
    "# Utility function to train the model\n",
    "def fit(num_epochs, model, loss_fn, opt, train_dl):\n",
    "    \n",
    "    # Repeat for given number of epochs\n",
    "    for epoch in range(num_epochs):\n",
    "        \n",
    "        # Train with batches of data\n",
    "        for xb,yb in train_dl:\n",
    "            \n",
    "            # 1. Generate predictions\n",
    "            pred = model(xb)\n",
    "            \n",
    "            # 2. Calculate loss\n",
    "            loss = loss_fn(pred, yb)\n",
    "            \n",
    "            # 3. Compute gradients\n",
    "            loss.backward()\n",
    "            \n",
    "            # 4. Update parameters using gradients\n",
    "            opt.step()\n",
    "            \n",
    "            # 5. Reset the gradients to zero\n",
    "            opt.zero_grad()\n",
    "        \n",
    "        # Print the progress\n",
    "        if (epoch+1) % 10 == 0:\n",
    "            print('Epoch [{}/{}], Loss: {:.4f}'.format(epoch+1, num_epochs, loss.item()))"
   ]
  },
  {
   "cell_type": "markdown",
   "metadata": {
    "colab_type": "text",
    "id": "af3g1awMaLRF"
   },
   "source": [
    "Some things to note above:\n",
    "\n",
    "* We use the data loader defined earlier to get batches of data for every iteration.\n",
    "\n",
    "* Instead of updating parameters (weights and biases) manually, we use `opt.step` to perform the update, and `opt.zero_grad` to reset the gradients to zero.\n",
    "\n",
    "* We've also added a log statement which prints the loss from the last batch of data for every 10th epoch, to track the progress of training. `loss.item` returns the actual value stored in the loss tensor.\n",
    "\n",
    "Let's train the model for 100 epochs."
   ]
  },
  {
   "cell_type": "code",
   "execution_count": 65,
   "metadata": {
    "colab": {
     "base_uri": "https://localhost:8080/",
     "height": 187
    },
    "colab_type": "code",
    "executionInfo": {
     "elapsed": 1147,
     "status": "ok",
     "timestamp": 1590775796395,
     "user": {
      "displayName": "bharti kukreja",
      "photoUrl": "https://lh3.googleusercontent.com/a-/AOh14GjNK9LjvvqFz17Kkx9lgjlh9-eeE38SAKNVJmVJkQ=s64",
      "userId": "08813336470904671275"
     },
     "user_tz": -330
    },
    "id": "thvwbqjpaLRF",
    "outputId": "766efd23-0ec6-4ee7-8ffd-3419ae287f73"
   },
   "outputs": [
    {
     "name": "stdout",
     "output_type": "stream",
     "text": [
      "Epoch [10/100], Loss: 675.5005\n",
      "Epoch [20/100], Loss: 258.2740\n",
      "Epoch [30/100], Loss: 437.4818\n",
      "Epoch [40/100], Loss: 245.1566\n",
      "Epoch [50/100], Loss: 181.1500\n",
      "Epoch [60/100], Loss: 93.5427\n",
      "Epoch [70/100], Loss: 136.2141\n",
      "Epoch [80/100], Loss: 93.3675\n",
      "Epoch [90/100], Loss: 85.1285\n",
      "Epoch [100/100], Loss: 29.6731\n"
     ]
    }
   ],
   "source": [
    "fit(100, model, loss_fn, opt, train_dl)"
   ]
  },
  {
   "cell_type": "markdown",
   "metadata": {
    "colab_type": "text",
    "id": "P5yjh7N4aLRH"
   },
   "source": [
    "Let's generate predictions using our model and verify that they're close to our targets."
   ]
  },
  {
   "cell_type": "code",
   "execution_count": 66,
   "metadata": {
    "colab": {
     "base_uri": "https://localhost:8080/",
     "height": 272
    },
    "colab_type": "code",
    "executionInfo": {
     "elapsed": 818,
     "status": "ok",
     "timestamp": 1590775797598,
     "user": {
      "displayName": "bharti kukreja",
      "photoUrl": "https://lh3.googleusercontent.com/a-/AOh14GjNK9LjvvqFz17Kkx9lgjlh9-eeE38SAKNVJmVJkQ=s64",
      "userId": "08813336470904671275"
     },
     "user_tz": -330
    },
    "id": "zN9swqrEaLRH",
    "outputId": "491f99ba-31ab-4953-a779-a2b36e52c0d4"
   },
   "outputs": [
    {
     "data": {
      "text/plain": [
       "tensor([[ 58.2805,  72.8483],\n",
       "        [ 81.6741,  97.3086],\n",
       "        [118.2408, 137.2922],\n",
       "        [ 27.7632,  50.2320],\n",
       "        [ 96.9972, 105.6065],\n",
       "        [ 58.2805,  72.8483],\n",
       "        [ 81.6741,  97.3086],\n",
       "        [118.2408, 137.2922],\n",
       "        [ 27.7632,  50.2320],\n",
       "        [ 96.9972, 105.6065],\n",
       "        [ 58.2805,  72.8483],\n",
       "        [ 81.6741,  97.3086],\n",
       "        [118.2408, 137.2922],\n",
       "        [ 27.7632,  50.2320],\n",
       "        [ 96.9972, 105.6065]], grad_fn=<AddmmBackward>)"
      ]
     },
     "execution_count": 66,
     "metadata": {
      "tags": []
     },
     "output_type": "execute_result"
    }
   ],
   "source": [
    "# Generate predictions\n",
    "preds = model(inputs)\n",
    "preds"
   ]
  },
  {
   "cell_type": "code",
   "execution_count": 67,
   "metadata": {
    "colab": {
     "base_uri": "https://localhost:8080/",
     "height": 272
    },
    "colab_type": "code",
    "executionInfo": {
     "elapsed": 1119,
     "status": "ok",
     "timestamp": 1590775806026,
     "user": {
      "displayName": "bharti kukreja",
      "photoUrl": "https://lh3.googleusercontent.com/a-/AOh14GjNK9LjvvqFz17Kkx9lgjlh9-eeE38SAKNVJmVJkQ=s64",
      "userId": "08813336470904671275"
     },
     "user_tz": -330
    },
    "id": "y2-Q_Ri2aLRJ",
    "outputId": "2dce12eb-0d73-4542-b738-6b4f3e3fc417"
   },
   "outputs": [
    {
     "data": {
      "text/plain": [
       "tensor([[ 56.,  70.],\n",
       "        [ 81., 101.],\n",
       "        [119., 133.],\n",
       "        [ 22.,  37.],\n",
       "        [103., 119.],\n",
       "        [ 56.,  70.],\n",
       "        [ 81., 101.],\n",
       "        [119., 133.],\n",
       "        [ 22.,  37.],\n",
       "        [103., 119.],\n",
       "        [ 56.,  70.],\n",
       "        [ 81., 101.],\n",
       "        [119., 133.],\n",
       "        [ 22.,  37.],\n",
       "        [103., 119.]])"
      ]
     },
     "execution_count": 67,
     "metadata": {
      "tags": []
     },
     "output_type": "execute_result"
    }
   ],
   "source": [
    "# Compare with targets\n",
    "targets"
   ]
  },
  {
   "cell_type": "markdown",
   "metadata": {
    "colab_type": "text",
    "id": "NJMBOrQ0aLRN"
   },
   "source": [
    "Indeed, the predictions are quite close to our targets, and now we have a fairly good model to predict crop yields for apples and oranges by looking at the average temperature, rainfall and humidity in a region."
   ]
  },
  {
   "cell_type": "markdown",
   "metadata": {
    "colab_type": "text",
    "id": "7olZindhaLRN"
   },
   "source": [
    "## Commit and update the notebook\n",
    "\n",
    "As a final step, we can record a new version of the notebook using the `jovian` library."
   ]
  },
  {
   "cell_type": "code",
   "execution_count": 1,
   "metadata": {
    "colab": {},
    "colab_type": "code",
    "id": "kjRI5q1zaLRO"
   },
   "outputs": [],
   "source": [
    "import jovian"
   ]
  },
  {
   "cell_type": "code",
   "execution_count": null,
   "metadata": {
    "colab": {
     "base_uri": "https://localhost:8080/",
     "height": 34
    },
    "colab_type": "code",
    "executionInfo": {
     "elapsed": 801,
     "status": "ok",
     "timestamp": 1590775809500,
     "user": {
      "displayName": "bharti kukreja",
      "photoUrl": "https://lh3.googleusercontent.com/a-/AOh14GjNK9LjvvqFz17Kkx9lgjlh9-eeE38SAKNVJmVJkQ=s64",
      "userId": "08813336470904671275"
     },
     "user_tz": -330
    },
    "id": "BJxrrDz0aLRP",
    "outputId": "b5f17ced-c529-46fa-db1a-60efbb6e2569"
   },
   "outputs": [
    {
     "data": {
      "application/javascript": [
       "window.require && require([\"base/js/namespace\"],function(Jupyter){Jupyter.notebook.save_checkpoint()})"
      ],
      "text/plain": [
       "<IPython.core.display.Javascript object>"
      ]
     },
     "metadata": {},
     "output_type": "display_data"
    },
    {
     "name": "stdout",
     "output_type": "stream",
     "text": [
      "[jovian] Attempting to save notebook..\n"
     ]
    }
   ],
   "source": [
    "jovian.commit()"
   ]
  },
  {
   "cell_type": "markdown",
   "metadata": {
    "colab_type": "text",
    "id": "3E18EnVhaLRR"
   },
   "source": [
    "Note that running `jovian.commit` a second time records a new version of your existing notebook. With Jovian.ml, you can avoid creating copies of your Jupyter notebooks and keep versions organized. Jovian also provides a visual diff ([example](https://jovian.ml/aakashns/keras-mnist-jovian/diff?base=8&remote=2)) so you can inspect what has changed between different versions:\n",
    "\n",
    "![jovian-commenting](https://i.imgur.com/HF1cOVt.png)"
   ]
  },
  {
   "cell_type": "markdown",
   "metadata": {
    "colab_type": "text",
    "id": "x7rWjr0laLRR"
   },
   "source": [
    "## Further Reading\n",
    "\n",
    "We've covered a lot of ground this this tutorial, including *linear regression* and the *gradient descent* optimization algorithm. Here are a few resources if you'd like to dig deeper into these topics:\n",
    "\n",
    "* For a more detailed explanation of derivates and gradient descent, see [these notes from a Udacity course](https://storage.googleapis.com/supplemental_media/udacityu/315142919/Gradient%20Descent.pdf). \n",
    "\n",
    "* For an animated visualization of how linear regression works, [see this post](https://hackernoon.com/visualizing-linear-regression-with-pytorch-9261f49edb09).\n",
    "\n",
    "* For a more mathematical treatment of matrix calculus, linear regression and gradient descent, you should check out [Andrew Ng's excellent course notes](https://github.com/Cleo-Stanford-CS/CS229_Notes/blob/master/lectures/cs229-notes1.pdf) from CS229 at Stanford University.\n",
    "\n",
    "* To practice and test your skills, you can participate in the [Boston Housing Price Prediction](https://www.kaggle.com/c/boston-housing) competition on Kaggle, a website that hosts data science competitions."
   ]
  },
  {
   "cell_type": "markdown",
   "metadata": {
    "colab_type": "text",
    "id": "e60-e8Z0aLRR"
   },
   "source": [
    "With this, we complete our discussion of linear regression in PyTorch, and we’re ready to move on to the next topic: *Logistic regression*."
   ]
  }
 ],
 "metadata": {
  "colab": {
   "collapsed_sections": [
    "BZpMK3QhaLQA",
    "_fbEGGpbaLQR",
    "W4Ora70zaLQk",
    "W-grc1ozaLQq",
    "ZVXsQWueaLQ1",
    "Rdi-_9zMaLQ8",
    "uQ0Nbr4jaLRB",
    "rUfJLgDlaLRD",
    "7olZindhaLRN",
    "x7rWjr0laLRR"
   ],
   "name": "freecodecamp_02-linear-regression.ipynb",
   "provenance": [
    {
     "file_id": "1BKlfrnrp6_1FZRDYKp43ZYeRvCLdntcT",
     "timestamp": 1590570843747
    }
   ]
  },
  "kernelspec": {
   "display_name": "Python 3",
   "language": "python",
   "name": "python3"
  },
  "language_info": {
   "codemirror_mode": {
    "name": "ipython",
    "version": 3
   },
   "file_extension": ".py",
   "mimetype": "text/x-python",
   "name": "python",
   "nbconvert_exporter": "python",
   "pygments_lexer": "ipython3",
   "version": "3.6.5"
  }
 },
 "nbformat": 4,
 "nbformat_minor": 1
}
