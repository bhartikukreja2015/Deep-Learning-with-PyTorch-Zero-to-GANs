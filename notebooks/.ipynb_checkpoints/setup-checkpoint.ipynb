{
 "cells": [
  {
   "cell_type": "code",
   "execution_count": null,
   "metadata": {},
   "outputs": [],
   "source": [
    "#google collab key setup\n",
    "#enable gpu Go to ‘Runtime’ > ‘Change runtime type’ > ‘Hardware accelerator’, and select ‘GPU’ or ‘TPU’. You can check if the GPU is enabled by\n",
    "# check GPU\n",
    "#import tensorflow as tf\n",
    "#device_name = tf.test.gpu_device_name()\n",
    "#if device_name != '/device:GPU:0':\n",
    "#  raise SystemError('GPU device not found')\n",
    "\n",
    "# checl os info\n",
    "#!cat /proc/version\n",
    "#!cat /proc/cpuinfo\n",
    "#!cat /proc/meminfo\n",
    "\n",
    "# access files from g drive from google.colab import drive\n",
    "# drive.mount('/content/gdrive')\n",
    "#Go to this URL in a browser: https://accounts.google.com/signin/oauth/...\n",
    "#Enter your authorization code:\n",
    "# ·········· \n",
    "#Mounted at /content/gdrive\n",
    "# upload file\n",
    "#from google.colab import files\n",
    "#uploaded = files.upload()\n",
    "\n",
    "# Running Executable File\n",
    "# Copy the executable file to /usr/local/bin, and give yourself permission to execute it.\n",
    "#!cp /content/gdrive/My\\ Drive/Colab\\ Notebooks/<FILE> /usr/local/bin\n",
    "#!chmod 755 /usr/local/bin/<FILE>\n",
    "\n",
    "# Tensorboard\n",
    "# Use ngrok:\n",
    "# Run Tensorboard in the background\n",
    "#LOGDIR = '/tmp/log'\n",
    "#get_ipython().system_raw(\n",
    "#    'tensorboard --logdir {} --host 0.0.0.0 --port 6006 &'\n",
    "#    .format(LOGDIR)\n",
    "#)\n",
    "# Use ngrok to tunnel traffic to localhost\n",
    "#! wget https://bin.equinox.io/c/4VmDzA7iaHb/ngrok-stable-linux-amd64.zip\n",
    "#! unzip ngrok-stable-linux-amd64.zip\n",
    "#get_ipython().system_raw('./ngrok http 6006 &')\n",
    "# Retrieve public url\n",
    "#! curl -s http://localhost:4040/api/tunnels | python3 -c \\\n",
    "#    \"import sys, json; print(json.load(sys.stdin)['tunnels'][0]['public_url'])\"\n",
    "# and you will get a hyperlink like this:\n",
    "# https://d5b842b9.ngrok.io"
   ]
  }
 ],
 "metadata": {
  "kernelspec": {
   "display_name": "Python 3",
   "language": "python",
   "name": "python3"
  },
  "language_info": {
   "codemirror_mode": {
    "name": "ipython",
    "version": 3
   },
   "file_extension": ".py",
   "mimetype": "text/x-python",
   "name": "python",
   "nbconvert_exporter": "python",
   "pygments_lexer": "ipython3",
   "version": "3.6.5"
  }
 },
 "nbformat": 4,
 "nbformat_minor": 2
}
